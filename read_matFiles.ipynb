{
 "cells": [
  {
   "cell_type": "code",
   "execution_count": 1,
   "metadata": {},
   "outputs": [
    {
     "name": "stdout",
     "output_type": "stream",
     "text": [
      "../Data/new/Sa191127.mat\n",
      "../Data/new/Sa191202.mat\n",
      "../Data/new/Sa191203.mat\n",
      "../Data/new/Sa191204.mat\n",
      "../Data/new/Sa191206.mat\n",
      "../Data/new/Sa191207.mat\n",
      "../Data/new/Sa191208.mat\n",
      "../Data/new/Sa191209.mat\n",
      "../Data/new/Sa191210.mat\n",
      "../Data/new/Sa191211.mat\n",
      "../Data/new/Sa191214.mat\n",
      "../Data/new/Sa191221.mat\n",
      "../Data/new/Sa191224.mat\n",
      "../Data/new/Sa191226.mat\n",
      "../Data/new/Sa191227.mat\n",
      "../Data/new/Sa191228.mat\n",
      "../Data/new/Pe180728.mat\n",
      "../Data/new/Wa180207.mat\n",
      "../Data/new/Wa180209.mat\n",
      "../Data/new/Wa180210.mat\n",
      "../Data/new/Wa180211.mat\n",
      "../Data/new/Wa180218.mat\n",
      "../Data/new/Wa180219.mat\n",
      "../Data/new/Wa180220.mat\n",
      "../Data/new/Wa180221.mat\n",
      "../Data/new/Wa180222.mat\n",
      "../Data/new/Wa180227.mat\n"
     ]
    }
   ],
   "source": [
    "import numpy as np\n",
    "import pandas as pd\n",
    "from scipy.io import loadmat\n",
    "import glob\n",
    "import pickle\n",
    "\n",
    "data={'Sa': [], 'Pe':[], 'Wa':[]}\n",
    "for m in [\"Sa\", \"Pe\", \"Wa\"]:\n",
    "    files = np.sort(glob.glob('../Data/new/%s*.mat' %m))\n",
    "    for f in files:\n",
    "        data[m].append(loadmat(f))\n",
    "        print(f)"
   ]
  },
  {
   "cell_type": "code",
   "execution_count": 2,
   "metadata": {},
   "outputs": [],
   "source": [
    "#import pickle\n",
    "#with open('filename.pickle', 'wb') as handle:\n",
    "#    pickle.dump(data, handle, protocol=pickle.HIGHEST_PROTOCOL)"
   ]
  },
  {
   "cell_type": "code",
   "execution_count": 3,
   "metadata": {},
   "outputs": [],
   "source": [
    "left_idx = {'Sa': [[] for i in range(len(data['Sa']))], 'Pe':[[] for i in range(len(data['Pe']))], 'Wa':[[] for i in range(len(data['Wa']))]}\n",
    "right_idx = {'Sa': [[] for i in range(len(data['Sa']))], 'Pe':[[] for i in range(len(data['Pe']))], 'Wa':[[] for i in range(len(data['Wa']))]}\n",
    "for m in [\"Sa\", \"Pe\", \"Wa\"]:\n",
    "    for n in range(len(data[m])):\n",
    "        left_idx[m][n] = data[m][n]['left_idx']\n",
    "        right_idx[m][n] = data[m][n]['right_idx']"
   ]
  },
  {
   "cell_type": "code",
   "execution_count": 4,
   "metadata": {},
   "outputs": [],
   "source": [
    "import pickle\n",
    "\n",
    "idx = {'left': left_idx, 'right':right_idx}\n",
    "with open('../Data/new/leftRightIdx.pickle', 'wb') as handle:\n",
    "    pickle.dump(idx, handle, protocol=pickle.HIGHEST_PROTOCOL)"
   ]
  },
  {
   "cell_type": "code",
   "execution_count": 5,
   "metadata": {},
   "outputs": [],
   "source": [
    "dataset=[]\n",
    "monkey=[]\n",
    "session=[]\n",
    "for m in ['Sa','Pe','Wa']:\n",
    "    for n in range(len(data[m])):\n",
    "        for line in data[m][n]['dat'][0]: \n",
    "            #[print(row) if any([row.shape==(0,0), not isinstance(row, np.ndarray)]) else print(row.flat[0]) if len(row[0])==1 else print(row[0]) for row in line]\n",
    "            dataset.append([row if any([row.shape==(0,0), not isinstance(row, np.ndarray)]) else row.flat[0] if len(row[0])==1 else row[0] for row in line])\n",
    "            monkey.append(m)\n",
    "            session.append(n)\n",
    "\n",
    "\n",
    "columns = ['trial_id','sp_train', 'outcome', 'timing', 'targ_xy', 'targ_angle', 'saccade_xy', 'saccade_angle']\n",
    "\n",
    "df_dat = pd.DataFrame(dataset, columns=columns)\n",
    "df_dat['monkey'] = monkey\n",
    "df_dat['session'] = session\n"
   ]
  },
  {
   "cell_type": "code",
   "execution_count": 6,
   "metadata": {},
   "outputs": [],
   "source": [
    "taskperiods = ['start', 'fix', 'targ_on', 'targ_off', 'go_cue', 'saccade', 'reward']\n",
    "\n",
    "helper = [np.squeeze(np.concatenate(df_dat['timing'][n])) if len(df_dat['timing'][n])>1 else np.squeeze(df_dat['timing'][n]) for n in df_dat.index]\n",
    "df_dat['timing']=[np.append(helper[n], np.ones(len(taskperiods)-len(df_dat['timing'][n]))*max(helper[n])) if len(df_dat['timing'][n])<len(taskperiods) else helper[n] for n in df_dat.index]\n",
    "for i in range(len(taskperiods)):\n",
    "    df_dat[taskperiods[i]] = [line[i].flat[0] for line in df_dat['timing']]\n",
    "del df_dat['timing']\n",
    "\n",
    "df_dat['trial_end'] = [df_dat['sp_train'][n].shape[1] for n in df_dat.index]"
   ]
  },
  {
   "cell_type": "code",
   "execution_count": 7,
   "metadata": {
    "scrolled": true
   },
   "outputs": [
    {
     "data": {
      "text/html": [
       "<div>\n",
       "<style scoped>\n",
       "    .dataframe tbody tr th:only-of-type {\n",
       "        vertical-align: middle;\n",
       "    }\n",
       "\n",
       "    .dataframe tbody tr th {\n",
       "        vertical-align: top;\n",
       "    }\n",
       "\n",
       "    .dataframe thead th {\n",
       "        text-align: right;\n",
       "    }\n",
       "</style>\n",
       "<table border=\"1\" class=\"dataframe\">\n",
       "  <thead>\n",
       "    <tr style=\"text-align: right;\">\n",
       "      <th></th>\n",
       "      <th>trial_id</th>\n",
       "      <th>sp_train</th>\n",
       "      <th>outcome</th>\n",
       "      <th>targ_xy</th>\n",
       "      <th>targ_angle</th>\n",
       "      <th>saccade_xy</th>\n",
       "      <th>saccade_angle</th>\n",
       "      <th>monkey</th>\n",
       "      <th>session</th>\n",
       "      <th>start</th>\n",
       "      <th>fix</th>\n",
       "      <th>targ_on</th>\n",
       "      <th>targ_off</th>\n",
       "      <th>go_cue</th>\n",
       "      <th>saccade</th>\n",
       "      <th>reward</th>\n",
       "      <th>trial_end</th>\n",
       "    </tr>\n",
       "  </thead>\n",
       "  <tbody>\n",
       "    <tr>\n",
       "      <th>0</th>\n",
       "      <td>1</td>\n",
       "      <td>(84, 0)\\t1.0\\n  (151, 0)\\t1.0\\n  (131, 1)\\t1...</td>\n",
       "      <td>CORRECT</td>\n",
       "      <td>[-144.24978336205572, -144.2497833620557]</td>\n",
       "      <td>225.0</td>\n",
       "      <td>[-202.51168991556725, -156.600050070819]</td>\n",
       "      <td>217.714</td>\n",
       "      <td>Sa</td>\n",
       "      <td>0</td>\n",
       "      <td>1.0</td>\n",
       "      <td>399.0</td>\n",
       "      <td>617.0</td>\n",
       "      <td>1037.0</td>\n",
       "      <td>3557.0</td>\n",
       "      <td>3792.0</td>\n",
       "      <td>3902.0</td>\n",
       "      <td>4708</td>\n",
       "    </tr>\n",
       "    <tr>\n",
       "      <th>1</th>\n",
       "      <td>2</td>\n",
       "      <td>(1, 0)\\t1.0\\n  (40, 0)\\t1.0\\n  (47, 0)\\t1.0\\...</td>\n",
       "      <td>BROKE_FIX</td>\n",
       "      <td>[-144.2497833620557, 144.2497833620557]</td>\n",
       "      <td>135.0</td>\n",
       "      <td>[]</td>\n",
       "      <td>[]</td>\n",
       "      <td>Sa</td>\n",
       "      <td>0</td>\n",
       "      <td>1.0</td>\n",
       "      <td>60.0</td>\n",
       "      <td>118.0</td>\n",
       "      <td>118.0</td>\n",
       "      <td>118.0</td>\n",
       "      <td>118.0</td>\n",
       "      <td>118.0</td>\n",
       "      <td>2195</td>\n",
       "    </tr>\n",
       "    <tr>\n",
       "      <th>2</th>\n",
       "      <td>3</td>\n",
       "      <td>(96, 0)\\t1.0\\n  (2, 1)\\t1.0\\n  (27, 1)\\t1.0\\...</td>\n",
       "      <td>CORRECT</td>\n",
       "      <td>[-204.0, 2.4982794702606005e-14]</td>\n",
       "      <td>180.0</td>\n",
       "      <td>[-240.39767772191422, 9.213561861581889]</td>\n",
       "      <td>177.805</td>\n",
       "      <td>Sa</td>\n",
       "      <td>0</td>\n",
       "      <td>1.0</td>\n",
       "      <td>164.0</td>\n",
       "      <td>383.0</td>\n",
       "      <td>803.0</td>\n",
       "      <td>3223.0</td>\n",
       "      <td>3404.0</td>\n",
       "      <td>3514.0</td>\n",
       "      <td>4289</td>\n",
       "    </tr>\n",
       "    <tr>\n",
       "      <th>3</th>\n",
       "      <td>4</td>\n",
       "      <td>(86, 0)\\t1.0\\n  (10, 1)\\t1.0\\n  (61, 1)\\t1.0...</td>\n",
       "      <td>CORRECT</td>\n",
       "      <td>[144.24978336205567, -144.24978336205572]</td>\n",
       "      <td>315.0</td>\n",
       "      <td>[102.73301126865537, -178.07357726031987]</td>\n",
       "      <td>299.981</td>\n",
       "      <td>Sa</td>\n",
       "      <td>0</td>\n",
       "      <td>1.0</td>\n",
       "      <td>170.0</td>\n",
       "      <td>383.0</td>\n",
       "      <td>803.0</td>\n",
       "      <td>2823.0</td>\n",
       "      <td>3014.0</td>\n",
       "      <td>3126.0</td>\n",
       "      <td>3901</td>\n",
       "    </tr>\n",
       "    <tr>\n",
       "      <th>4</th>\n",
       "      <td>5</td>\n",
       "      <td>(0, 0)\\t1.0\\n  (91, 0)\\t1.0\\n  (136, 1)\\t1.0...</td>\n",
       "      <td>CORRECT</td>\n",
       "      <td>[-144.2497833620557, 144.2497833620557]</td>\n",
       "      <td>135.0</td>\n",
       "      <td>[-123.19725250092596, 120.2654764951257]</td>\n",
       "      <td>135.69</td>\n",
       "      <td>Sa</td>\n",
       "      <td>0</td>\n",
       "      <td>1.0</td>\n",
       "      <td>64.0</td>\n",
       "      <td>282.0</td>\n",
       "      <td>702.0</td>\n",
       "      <td>2822.0</td>\n",
       "      <td>3002.0</td>\n",
       "      <td>3117.0</td>\n",
       "      <td>3889</td>\n",
       "    </tr>\n",
       "  </tbody>\n",
       "</table>\n",
       "</div>"
      ],
      "text/plain": [
       "   trial_id                                           sp_train    outcome  \\\n",
       "0         1    (84, 0)\\t1.0\\n  (151, 0)\\t1.0\\n  (131, 1)\\t1...    CORRECT   \n",
       "1         2    (1, 0)\\t1.0\\n  (40, 0)\\t1.0\\n  (47, 0)\\t1.0\\...  BROKE_FIX   \n",
       "2         3    (96, 0)\\t1.0\\n  (2, 1)\\t1.0\\n  (27, 1)\\t1.0\\...    CORRECT   \n",
       "3         4    (86, 0)\\t1.0\\n  (10, 1)\\t1.0\\n  (61, 1)\\t1.0...    CORRECT   \n",
       "4         5    (0, 0)\\t1.0\\n  (91, 0)\\t1.0\\n  (136, 1)\\t1.0...    CORRECT   \n",
       "\n",
       "                                     targ_xy  targ_angle  \\\n",
       "0  [-144.24978336205572, -144.2497833620557]       225.0   \n",
       "1    [-144.2497833620557, 144.2497833620557]       135.0   \n",
       "2           [-204.0, 2.4982794702606005e-14]       180.0   \n",
       "3  [144.24978336205567, -144.24978336205572]       315.0   \n",
       "4    [-144.2497833620557, 144.2497833620557]       135.0   \n",
       "\n",
       "                                  saccade_xy saccade_angle monkey  session  \\\n",
       "0   [-202.51168991556725, -156.600050070819]       217.714     Sa        0   \n",
       "1                                         []            []     Sa        0   \n",
       "2   [-240.39767772191422, 9.213561861581889]       177.805     Sa        0   \n",
       "3  [102.73301126865537, -178.07357726031987]       299.981     Sa        0   \n",
       "4   [-123.19725250092596, 120.2654764951257]        135.69     Sa        0   \n",
       "\n",
       "   start    fix  targ_on  targ_off  go_cue  saccade  reward  trial_end  \n",
       "0    1.0  399.0    617.0    1037.0  3557.0   3792.0  3902.0       4708  \n",
       "1    1.0   60.0    118.0     118.0   118.0    118.0   118.0       2195  \n",
       "2    1.0  164.0    383.0     803.0  3223.0   3404.0  3514.0       4289  \n",
       "3    1.0  170.0    383.0     803.0  2823.0   3014.0  3126.0       3901  \n",
       "4    1.0   64.0    282.0     702.0  2822.0   3002.0  3117.0       3889  "
      ]
     },
     "execution_count": 7,
     "metadata": {},
     "output_type": "execute_result"
    }
   ],
   "source": [
    "df_dat.head()"
   ]
  },
  {
   "cell_type": "markdown",
   "metadata": {},
   "source": [
    "#### Change WM circle so that 0 at top, also change x,y respectively"
   ]
  },
  {
   "cell_type": "code",
   "execution_count": 8,
   "metadata": {},
   "outputs": [
    {
     "data": {
      "text/plain": [
       "<matplotlib.legend.Legend at 0x7f7b1b7c1190>"
      ]
     },
     "execution_count": 8,
     "metadata": {},
     "output_type": "execute_result"
    },
    {
     "data": {
      "image/png": "[encoded data removed]",
      "text/plain": [
       "<Figure size 432x288 with 1 Axes>"
      ]
     },
     "metadata": {
      "needs_background": "light"
     },
     "output_type": "display_data"
    }
   ],
   "source": [
    "import matplotlib.pyplot as plt\n",
    "compl = np.array([complex(df_dat['targ_xy'][n][0],df_dat['targ_xy'][n][1]) for n in df_dat.index])\n",
    "compl_real = np.array([complex(df_dat['targ_xy'][n][0],df_dat['targ_xy'][n][1]).real for n in df_dat.index])\n",
    "compl_imag = np.array([complex(df_dat['targ_xy'][n][0],df_dat['targ_xy'][n][1]).imag for n in df_dat.index])\n",
    "bool_targright = ((np.angle(compl)>-np.pi/2) & (np.angle(compl)<np.pi/2))\n",
    "bool_targleft = ((np.angle(compl)>np.pi/2) | (np.angle(compl)<-np.pi/2-0.1))\n",
    "plt.scatter(compl_real[bool_targright], compl_imag[bool_targright], label='right')\n",
    "plt.scatter(compl_real[bool_targleft], compl_imag[bool_targleft], label='left')\n",
    "plt.legend()"
   ]
  },
  {
   "cell_type": "code",
   "execution_count": 9,
   "metadata": {},
   "outputs": [
    {
     "name": "stderr",
     "output_type": "stream",
     "text": [
      "/home/melanie/anaconda3/envs/brian2/lib/python3.7/site-packages/ipykernel_launcher.py:15: DeprecationWarning: The truth value of an empty array is ambiguous. Returning False, but in future this will result in an error. Use `array.size > 0` to check that an array is not empty.\n",
      "  from ipykernel import kernelapp as app\n",
      "/home/melanie/anaconda3/envs/brian2/lib/python3.7/site-packages/ipykernel_launcher.py:17: DeprecationWarning: The truth value of an empty array is ambiguous. Returning False, but in future this will result in an error. Use `array.size > 0` to check that an array is not empty.\n",
      "/home/melanie/anaconda3/envs/brian2/lib/python3.7/site-packages/ipykernel_launcher.py:19: DeprecationWarning: The truth value of an empty array is ambiguous. Returning False, but in future this will result in an error. Use `array.size > 0` to check that an array is not empty.\n"
     ]
    }
   ],
   "source": [
    "help_circle = np.zeros(len(df_dat))\n",
    "help_circle_sac = np.zeros(len(df_dat))\n",
    "for idx in range(len(df_dat)):\n",
    "    if df_dat.targ_angle[idx]<90:\n",
    "        help_circle[idx] = df_dat.targ_angle[idx]+270\n",
    "    elif df_dat.targ_angle[idx]==90:\n",
    "        help_circle[idx] = 0\n",
    "    elif df_dat.targ_angle[idx]>90:\n",
    "        help_circle[idx] = df_dat.targ_angle[idx]-90\n",
    "    elif isinstance(df_dat.targ_angle[idx], np.ndarray):\n",
    "        help_circle[idx] = np.nan\n",
    "    else:\n",
    "        print('error')\n",
    "        \n",
    "    if df_dat.saccade_angle[idx]<90:\n",
    "        help_circle_sac[idx] = df_dat.saccade_angle[idx]+270\n",
    "    elif df_dat.saccade_angle[idx]==90:\n",
    "        help_circle_sac[idx] = 0\n",
    "    elif df_dat.saccade_angle[idx]>90:\n",
    "        help_circle_sac[idx] = df_dat.saccade_angle[idx]-90\n",
    "    elif isinstance(df_dat.saccade_angle[idx], np.ndarray):\n",
    "        help_circle_sac[idx] = np.nan\n",
    "    else:\n",
    "        print('error')\n",
    "\n",
    "df_dat['targ_angle'] = help_circle\n",
    "df_dat['saccade_angle'] = help_circle_sac\n",
    "    "
   ]
  },
  {
   "cell_type": "code",
   "execution_count": 10,
   "metadata": {},
   "outputs": [
    {
     "data": {
      "text/plain": [
       "<matplotlib.legend.Legend at 0x7f7b1b30d1d0>"
      ]
     },
     "execution_count": 10,
     "metadata": {},
     "output_type": "execute_result"
    },
    {
     "data": {
      "image/png": "[encoded data removed]",
      "text/plain": [
       "<Figure size 432x288 with 1 Axes>"
      ]
     },
     "metadata": {
      "needs_background": "light"
     },
     "output_type": "display_data"
    }
   ],
   "source": [
    "import matplotlib.pyplot as plt\n",
    "compl = np.array([complex(df_dat['targ_xy'][n][0],df_dat['targ_xy'][n][1]) for n in df_dat.index])\n",
    "compl_real = np.array([complex(df_dat['targ_xy'][n][0],df_dat['targ_xy'][n][1]).real for n in df_dat.index])\n",
    "compl_imag = np.array([complex(df_dat['targ_xy'][n][0],df_dat['targ_xy'][n][1]).imag for n in df_dat.index])\n",
    "bool_targright = ((np.angle(compl)>-np.pi/2) & (np.angle(compl)<np.pi/2))\n",
    "bool_targleft = ((np.angle(compl)>np.pi/2) | (np.angle(compl)<-np.pi/2-0.1))\n",
    "plt.scatter(compl_real[bool_targright], compl_imag[bool_targright], label='right')\n",
    "plt.scatter(compl_real[bool_targleft], compl_imag[bool_targleft], label='left')\n",
    "plt.legend()"
   ]
  },
  {
   "cell_type": "code",
   "execution_count": 8,
   "metadata": {},
   "outputs": [],
   "source": [
    "import sys\n",
    "\n",
    "np.set_printoptions(threshold=sys.maxsize)\n",
    "pd.set_option('display.max_colwidth', None)\n",
    "pd.set_option('display.max_columns', None) \n",
    "import pickle\n",
    "with open('../Data/new/df.pickle', 'wb') as handle:\n",
    "    pickle.dump(df_dat, handle, protocol=pickle.HIGHEST_PROTOCOL)"
   ]
  },
  {
   "cell_type": "code",
   "execution_count": 8,
   "metadata": {},
   "outputs": [],
   "source": [
    "#import sys\n",
    "\n",
    "#np.set_printoptions(threshold=sys.maxsize)\n",
    "#pd.set_option('display.max_colwidth', None)\n",
    "#pd.set_option('display.max_columns', None) \n",
    "#df_dat.to_csv('../Data/df_monkeys.csv', index=False)"
   ]
  },
  {
   "cell_type": "code",
   "execution_count": null,
   "metadata": {},
   "outputs": [],
   "source": []
  }
 ],
 "metadata": {
  "kernelspec": {
   "display_name": "Python 3",
   "language": "python",
   "name": "python3"
  },
  "language_info": {
   "codemirror_mode": {
    "name": "ipython",
    "version": 3
   },
   "file_extension": ".py",
   "mimetype": "text/x-python",
   "name": "python",
   "nbconvert_exporter": "python",
   "pygments_lexer": "ipython3",
   "version": "3.7.6"
  }
 },
 "nbformat": 4,
 "nbformat_minor": 4
}
