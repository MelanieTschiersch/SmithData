{
 "cells": [
  {
   "cell_type": "code",
   "execution_count": 1,
   "metadata": {
    "ExecuteTime": {
     "end_time": "2021-03-05T15:20:03.070813Z",
     "start_time": "2021-03-05T15:19:57.694677Z"
    }
   },
   "outputs": [
    {
     "name": "stdout",
     "output_type": "stream",
     "text": [
      "Requirement already satisfied: scikits-bootstrap in /home/albert/.local/lib/python3.7/site-packages (1.0.1)\n",
      "Requirement already satisfied: pyerf in /home/albert/.local/lib/python3.7/site-packages (from scikits-bootstrap) (1.0.1)\n",
      "Requirement already satisfied: numpy in /home/albert/anaconda3/lib/python3.7/site-packages (from scikits-bootstrap) (1.16.6)\n",
      "Note: you may need to restart the kernel to use updated packages.\n",
      "Requirement already satisfied: pymicro in /home/albert/.local/lib/python3.7/site-packages (0.5.1)\n",
      "Note: you may need to restart the kernel to use updated packages.\n",
      "Requirement already satisfied: vtk in /home/albert/.local/lib/python3.7/site-packages (9.0.1)\n",
      "Note: you may need to restart the kernel to use updated packages.\n"
     ]
    }
   ],
   "source": [
    "%pip install scikits-bootstrap --user\n",
    "%pip install pymicro --user\n",
    "%pip install vtk --user"
   ]
  },
  {
   "cell_type": "code",
   "execution_count": 1,
   "metadata": {
    "ExecuteTime": {
     "end_time": "2021-03-05T15:20:03.584150Z",
     "start_time": "2021-03-05T15:20:03.074690Z"
    }
   },
   "outputs": [],
   "source": [
    "import numpy as np\n",
    "import pandas as pd\n",
    "import matplotlib.pyplot as plt"
   ]
  },
  {
   "cell_type": "markdown",
   "metadata": {},
   "source": [
    "### Load data"
   ]
  },
  {
   "cell_type": "code",
   "execution_count": 3,
   "metadata": {
    "ExecuteTime": {
     "end_time": "2021-03-05T15:20:03.614432Z",
     "start_time": "2021-03-05T15:20:03.585998Z"
    }
   },
   "outputs": [],
   "source": [
    "info1 = pd.read_excel('Table_biasedODR_info.xlsx')\n",
    "info2 = pd.read_excel('Table_biasedODR_info.xlsx', sheet_name=1)"
   ]
  },
  {
   "cell_type": "code",
   "execution_count": 4,
   "metadata": {
    "ExecuteTime": {
     "end_time": "2021-03-05T15:20:03.634246Z",
     "start_time": "2021-03-05T15:20:03.615989Z"
    }
   },
   "outputs": [
    {
     "data": {
      "text/html": [
       "<div>\n",
       "<style scoped>\n",
       "    .dataframe tbody tr th:only-of-type {\n",
       "        vertical-align: middle;\n",
       "    }\n",
       "\n",
       "    .dataframe tbody tr th {\n",
       "        vertical-align: top;\n",
       "    }\n",
       "\n",
       "    .dataframe thead th {\n",
       "        text-align: right;\n",
       "    }\n",
       "</style>\n",
       "<table border=\"1\" class=\"dataframe\">\n",
       "  <thead>\n",
       "    <tr style=\"text-align: right;\">\n",
       "      <th></th>\n",
       "      <th>filename</th>\n",
       "      <th>delay</th>\n",
       "      <th>n_classes</th>\n",
       "      <th>n_trials</th>\n",
       "      <th>corr_trials</th>\n",
       "      <th>performance</th>\n",
       "    </tr>\n",
       "  </thead>\n",
       "  <tbody>\n",
       "    <tr>\n",
       "      <th>0</th>\n",
       "      <td>vmmtest01</td>\n",
       "      <td>1.5</td>\n",
       "      <td>72</td>\n",
       "      <td>301</td>\n",
       "      <td>301</td>\n",
       "      <td>1.000000</td>\n",
       "    </tr>\n",
       "    <tr>\n",
       "      <th>1</th>\n",
       "      <td>vmmtest02</td>\n",
       "      <td>1.5</td>\n",
       "      <td>72</td>\n",
       "      <td>298</td>\n",
       "      <td>275</td>\n",
       "      <td>0.922819</td>\n",
       "    </tr>\n",
       "    <tr>\n",
       "      <th>2</th>\n",
       "      <td>vmmtest03</td>\n",
       "      <td>1.5</td>\n",
       "      <td>72</td>\n",
       "      <td>239</td>\n",
       "      <td>235</td>\n",
       "      <td>0.983264</td>\n",
       "    </tr>\n",
       "    <tr>\n",
       "      <th>3</th>\n",
       "      <td>vmmtest04</td>\n",
       "      <td>1.5</td>\n",
       "      <td>72</td>\n",
       "      <td>320</td>\n",
       "      <td>313</td>\n",
       "      <td>0.978125</td>\n",
       "    </tr>\n",
       "    <tr>\n",
       "      <th>4</th>\n",
       "      <td>vmmtest05</td>\n",
       "      <td>1.5</td>\n",
       "      <td>72</td>\n",
       "      <td>24</td>\n",
       "      <td>19</td>\n",
       "      <td>0.791667</td>\n",
       "    </tr>\n",
       "    <tr>\n",
       "      <th>5</th>\n",
       "      <td>vmm120_1</td>\n",
       "      <td>1.5</td>\n",
       "      <td>120</td>\n",
       "      <td>333</td>\n",
       "      <td>327</td>\n",
       "      <td>0.981982</td>\n",
       "    </tr>\n",
       "    <tr>\n",
       "      <th>6</th>\n",
       "      <td>vmm120_2</td>\n",
       "      <td>1.5</td>\n",
       "      <td>120</td>\n",
       "      <td>349</td>\n",
       "      <td>347</td>\n",
       "      <td>0.994269</td>\n",
       "    </tr>\n",
       "    <tr>\n",
       "      <th>7</th>\n",
       "      <td>vmm1203_1</td>\n",
       "      <td>3.0</td>\n",
       "      <td>120</td>\n",
       "      <td>126</td>\n",
       "      <td>121</td>\n",
       "      <td>0.960317</td>\n",
       "    </tr>\n",
       "    <tr>\n",
       "      <th>8</th>\n",
       "      <td>vmm1203_2</td>\n",
       "      <td>3.0</td>\n",
       "      <td>120</td>\n",
       "      <td>137</td>\n",
       "      <td>133</td>\n",
       "      <td>0.970803</td>\n",
       "    </tr>\n",
       "  </tbody>\n",
       "</table>\n",
       "</div>"
      ],
      "text/plain": [
       "    filename  delay  n_classes  n_trials  corr_trials  performance\n",
       "0  vmmtest01    1.5         72       301          301     1.000000\n",
       "1  vmmtest02    1.5         72       298          275     0.922819\n",
       "2  vmmtest03    1.5         72       239          235     0.983264\n",
       "3  vmmtest04    1.5         72       320          313     0.978125\n",
       "4  vmmtest05    1.5         72        24           19     0.791667\n",
       "5   vmm120_1    1.5        120       333          327     0.981982\n",
       "6   vmm120_2    1.5        120       349          347     0.994269\n",
       "7  vmm1203_1    3.0        120       126          121     0.960317\n",
       "8  vmm1203_2    3.0        120       137          133     0.970803"
      ]
     },
     "execution_count": 4,
     "metadata": {},
     "output_type": "execute_result"
    }
   ],
   "source": [
    "info1.rename(columns={\n",
    "    'delay period': 'delay',\n",
    "    'number of classes ': 'n_classes',\n",
    "    'number of trials': 'n_trials',\n",
    "    'correct trials': 'corr_trials'\n",
    "},\n",
    "             inplace=True)\n",
    "info1"
   ]
  },
  {
   "cell_type": "code",
   "execution_count": 5,
   "metadata": {
    "ExecuteTime": {
     "end_time": "2021-03-05T15:20:03.651865Z",
     "start_time": "2021-03-05T15:20:03.636223Z"
    }
   },
   "outputs": [
    {
     "data": {
      "text/html": [
       "<div>\n",
       "<style scoped>\n",
       "    .dataframe tbody tr th:only-of-type {\n",
       "        vertical-align: middle;\n",
       "    }\n",
       "\n",
       "    .dataframe tbody tr th {\n",
       "        vertical-align: top;\n",
       "    }\n",
       "\n",
       "    .dataframe thead th {\n",
       "        text-align: right;\n",
       "    }\n",
       "</style>\n",
       "<table border=\"1\" class=\"dataframe\">\n",
       "  <thead>\n",
       "    <tr style=\"text-align: right;\">\n",
       "      <th></th>\n",
       "      <th>Statecode</th>\n",
       "      <th>Unnamed: 1</th>\n",
       "      <th>Stimulus Class</th>\n",
       "      <th>Cue location</th>\n",
       "      <th>Saccadic Endpoint X</th>\n",
       "      <th>Saccadic Endpoint Y</th>\n",
       "      <th>Unnamed: 6</th>\n",
       "    </tr>\n",
       "  </thead>\n",
       "  <tbody>\n",
       "    <tr>\n",
       "      <th>0</th>\n",
       "      <td>6</td>\n",
       "      <td>Correct</td>\n",
       "      <td>(Internal Variable)</td>\n",
       "      <td>(true position, in degrees)</td>\n",
       "      <td>NaN</td>\n",
       "      <td>NaN</td>\n",
       "      <td>Aborted</td>\n",
       "    </tr>\n",
       "    <tr>\n",
       "      <th>1</th>\n",
       "      <td>5</td>\n",
       "      <td>Completed, incorrect</td>\n",
       "      <td>NaN</td>\n",
       "      <td>NaN</td>\n",
       "      <td>NaN</td>\n",
       "      <td>0.0</td>\n",
       "      <td>Indeterminate</td>\n",
       "    </tr>\n",
       "    <tr>\n",
       "      <th>2</th>\n",
       "      <td>1-4</td>\n",
       "      <td>Aborted</td>\n",
       "      <td>NaN</td>\n",
       "      <td>NaN</td>\n",
       "      <td>NaN</td>\n",
       "      <td>NaN</td>\n",
       "      <td>NaN</td>\n",
       "    </tr>\n",
       "  </tbody>\n",
       "</table>\n",
       "</div>"
      ],
      "text/plain": [
       "  Statecode            Unnamed: 1       Stimulus Class  \\\n",
       "0         6               Correct  (Internal Variable)   \n",
       "1         5  Completed, incorrect                  NaN   \n",
       "2       1-4               Aborted                  NaN   \n",
       "\n",
       "                  Cue location  Saccadic Endpoint X  Saccadic Endpoint Y  \\\n",
       "0  (true position, in degrees)                  NaN                  NaN   \n",
       "1                          NaN                  NaN                  0.0   \n",
       "2                          NaN                  NaN                  NaN   \n",
       "\n",
       "      Unnamed: 6  \n",
       "0        Aborted  \n",
       "1  Indeterminate  \n",
       "2            NaN  "
      ]
     },
     "execution_count": 5,
     "metadata": {},
     "output_type": "execute_result"
    }
   ],
   "source": [
    "info2"
   ]
  },
  {
   "cell_type": "code",
   "execution_count": 6,
   "metadata": {
    "ExecuteTime": {
     "end_time": "2021-03-05T15:20:03.688363Z",
     "start_time": "2021-03-05T15:20:03.653799Z"
    }
   },
   "outputs": [
    {
     "data": {
      "text/html": [
       "<div>\n",
       "<style scoped>\n",
       "    .dataframe tbody tr th:only-of-type {\n",
       "        vertical-align: middle;\n",
       "    }\n",
       "\n",
       "    .dataframe tbody tr th {\n",
       "        vertical-align: top;\n",
       "    }\n",
       "\n",
       "    .dataframe thead th {\n",
       "        text-align: right;\n",
       "    }\n",
       "</style>\n",
       "<table border=\"1\" class=\"dataframe\">\n",
       "  <thead>\n",
       "    <tr style=\"text-align: right;\">\n",
       "      <th></th>\n",
       "      <th>angle</th>\n",
       "      <th>X_1</th>\n",
       "      <th>X_2</th>\n",
       "      <th>X_3</th>\n",
       "      <th>X_4</th>\n",
       "      <th>X_5</th>\n",
       "      <th>Y_1</th>\n",
       "      <th>Y_2</th>\n",
       "      <th>Y_3</th>\n",
       "      <th>Y_4</th>\n",
       "      <th>Y_5</th>\n",
       "    </tr>\n",
       "  </thead>\n",
       "  <tbody>\n",
       "    <tr>\n",
       "      <th>0</th>\n",
       "      <td>0</td>\n",
       "      <td>9.927509</td>\n",
       "      <td>9.789701</td>\n",
       "      <td>10.721368</td>\n",
       "      <td>10.993732</td>\n",
       "      <td>9.354796</td>\n",
       "      <td>0.962013</td>\n",
       "      <td>0.299778</td>\n",
       "      <td>0.788224</td>\n",
       "      <td>0.800760</td>\n",
       "      <td>0.321178</td>\n",
       "    </tr>\n",
       "    <tr>\n",
       "      <th>1</th>\n",
       "      <td>45</td>\n",
       "      <td>5.007123</td>\n",
       "      <td>4.679725</td>\n",
       "      <td>5.363960</td>\n",
       "      <td>5.886515</td>\n",
       "      <td>3.764799</td>\n",
       "      <td>6.789649</td>\n",
       "      <td>6.940646</td>\n",
       "      <td>6.810304</td>\n",
       "      <td>7.793210</td>\n",
       "      <td>5.329218</td>\n",
       "    </tr>\n",
       "    <tr>\n",
       "      <th>2</th>\n",
       "      <td>90</td>\n",
       "      <td>-2.604938</td>\n",
       "      <td>-1.915005</td>\n",
       "      <td>-2.029018</td>\n",
       "      <td>-4.361651</td>\n",
       "      <td>-3.681481</td>\n",
       "      <td>8.866097</td>\n",
       "      <td>7.773504</td>\n",
       "      <td>7.881714</td>\n",
       "      <td>8.652594</td>\n",
       "      <td>6.132764</td>\n",
       "    </tr>\n",
       "    <tr>\n",
       "      <th>3</th>\n",
       "      <td>135</td>\n",
       "      <td>-9.479266</td>\n",
       "      <td>-8.312631</td>\n",
       "      <td>-8.210721</td>\n",
       "      <td>-10.770526</td>\n",
       "      <td>-9.357075</td>\n",
       "      <td>4.635328</td>\n",
       "      <td>3.327066</td>\n",
       "      <td>4.073758</td>\n",
       "      <td>4.397393</td>\n",
       "      <td>2.653561</td>\n",
       "    </tr>\n",
       "    <tr>\n",
       "      <th>4</th>\n",
       "      <td>180</td>\n",
       "      <td>-11.146882</td>\n",
       "      <td>-10.421415</td>\n",
       "      <td>-9.636040</td>\n",
       "      <td>-12.637987</td>\n",
       "      <td>-10.599620</td>\n",
       "      <td>-2.686610</td>\n",
       "      <td>-3.190883</td>\n",
       "      <td>-3.172602</td>\n",
       "      <td>-2.651662</td>\n",
       "      <td>-4.471605</td>\n",
       "    </tr>\n",
       "    <tr>\n",
       "      <th>5</th>\n",
       "      <td>225</td>\n",
       "      <td>-6.618867</td>\n",
       "      <td>-6.085090</td>\n",
       "      <td>-5.259972</td>\n",
       "      <td>-7.514087</td>\n",
       "      <td>-6.735992</td>\n",
       "      <td>-9.121557</td>\n",
       "      <td>-9.744349</td>\n",
       "      <td>-10.312915</td>\n",
       "      <td>-9.508600</td>\n",
       "      <td>-10.736942</td>\n",
       "    </tr>\n",
       "    <tr>\n",
       "      <th>6</th>\n",
       "      <td>270</td>\n",
       "      <td>2.077556</td>\n",
       "      <td>1.364198</td>\n",
       "      <td>2.609008</td>\n",
       "      <td>1.080405</td>\n",
       "      <td>0.503134</td>\n",
       "      <td>-9.546375</td>\n",
       "      <td>-12.076448</td>\n",
       "      <td>-12.345815</td>\n",
       "      <td>-11.924343</td>\n",
       "      <td>-12.892118</td>\n",
       "    </tr>\n",
       "    <tr>\n",
       "      <th>7</th>\n",
       "      <td>315</td>\n",
       "      <td>9.170307</td>\n",
       "      <td>8.074549</td>\n",
       "      <td>9.372541</td>\n",
       "      <td>8.937955</td>\n",
       "      <td>6.817664</td>\n",
       "      <td>-6.066160</td>\n",
       "      <td>-8.547721</td>\n",
       "      <td>-8.270113</td>\n",
       "      <td>-7.795610</td>\n",
       "      <td>-8.664451</td>\n",
       "    </tr>\n",
       "  </tbody>\n",
       "</table>\n",
       "</div>"
      ],
      "text/plain": [
       "   angle        X_1        X_2        X_3        X_4        X_5       Y_1  \\\n",
       "0      0   9.927509   9.789701  10.721368  10.993732   9.354796  0.962013   \n",
       "1     45   5.007123   4.679725   5.363960   5.886515   3.764799  6.789649   \n",
       "2     90  -2.604938  -1.915005  -2.029018  -4.361651  -3.681481  8.866097   \n",
       "3    135  -9.479266  -8.312631  -8.210721 -10.770526  -9.357075  4.635328   \n",
       "4    180 -11.146882 -10.421415  -9.636040 -12.637987 -10.599620 -2.686610   \n",
       "5    225  -6.618867  -6.085090  -5.259972  -7.514087  -6.735992 -9.121557   \n",
       "6    270   2.077556   1.364198   2.609008   1.080405   0.503134 -9.546375   \n",
       "7    315   9.170307   8.074549   9.372541   8.937955   6.817664 -6.066160   \n",
       "\n",
       "         Y_2        Y_3        Y_4        Y_5  \n",
       "0   0.299778   0.788224   0.800760   0.321178  \n",
       "1   6.940646   6.810304   7.793210   5.329218  \n",
       "2   7.773504   7.881714   8.652594   6.132764  \n",
       "3   3.327066   4.073758   4.397393   2.653561  \n",
       "4  -3.190883  -3.172602  -2.651662  -4.471605  \n",
       "5  -9.744349 -10.312915  -9.508600 -10.736942  \n",
       "6 -12.076448 -12.345815 -11.924343 -12.892118  \n",
       "7  -8.547721  -8.270113  -7.795610  -8.664451  "
      ]
     },
     "execution_count": 6,
     "metadata": {},
     "output_type": "execute_result"
    }
   ],
   "source": [
    "calib = pd.read_excel('calibration_result_SL.xlsx')\n",
    "calib"
   ]
  },
  {
   "cell_type": "code",
   "execution_count": 7,
   "metadata": {
    "ExecuteTime": {
     "end_time": "2021-03-05T15:20:04.263328Z",
     "start_time": "2021-03-05T15:20:03.689701Z"
    }
   },
   "outputs": [
    {
     "data": {
      "image/png": "[encoded data removed]",
      "text/plain": [
       "<Figure size 432x288 with 5 Axes>"
      ]
     },
     "metadata": {
      "needs_background": "light"
     },
     "output_type": "display_data"
    }
   ],
   "source": [
    "for i in range(5):\n",
    "    plt.subplot(2,3,i+1)\n",
    "    x=calib['X_'+str(i+1)]\n",
    "    y=calib['Y_'+str(i+1)]\n",
    "    plt.scatter(x,y,c=calib.angle)\n",
    "    plt.scatter(10*np.cos(np.deg2rad(calib.angle)), 10*np.sin(np.deg2rad(calib.angle)), c=calib.angle, marker='x')"
   ]
  },
  {
   "cell_type": "markdown",
   "metadata": {},
   "source": [
    "We now register the eye tracker data to the reference targets using the recipe in https://pymicro.readthedocs.io/projects/pymicro/en/latest/cookbook/pointset_registration.html"
   ]
  },
  {
   "cell_type": "code",
   "execution_count": 8,
   "metadata": {
    "ExecuteTime": {
     "end_time": "2021-03-05T15:20:04.931049Z",
     "start_time": "2021-03-05T15:20:04.265659Z"
    }
   },
   "outputs": [
    {
     "data": {
      "image/png": "[encoded data removed]",
      "text/plain": [
       "<Figure size 432x288 with 5 Axes>"
      ]
     },
     "metadata": {
      "needs_background": "light"
     },
     "output_type": "display_data"
    }
   ],
   "source": [
    "from pymicro.view.vol_utils import compute_affine_transform\n",
    "# compute the affine transform from the point set\n",
    "transf=[]\n",
    "ref_centr=[]\n",
    "tsr_centr=[]\n",
    "\n",
    "ref_points = np.array([[10*np.cos(np.deg2rad(calib.angle[i])), 10*np.sin(np.deg2rad(calib.angle[i]))] for i in range(8)])\n",
    "for i in range (5):\n",
    "    plt.subplot(2,3,i+1)\n",
    "    x=calib['X_'+str(i+1)]\n",
    "    y=calib['Y_'+str(i+1)]\n",
    "    tsr_points = np.array([[x[j], y[j]] for j in range(8)])\n",
    "    \n",
    "    # get the affine transformations that map eye tracker data to reference points\n",
    "    translation, transformation = compute_affine_transform(ref_points, tsr_points)\n",
    "    \n",
    "    transf.append(transformation) #save for transformation of data points later\n",
    "    \n",
    "    # now get the centroid in each condition for recentering\n",
    "    ref_centroid = np.mean(ref_points, axis=0)\n",
    "    tsr_centroid = np.mean(tsr_points, axis=0)\n",
    "    ref_centr.append(ref_centroid) #save for transformation of data points later\n",
    "    tsr_centr.append(tsr_centroid) #save for transformation of data points later\n",
    "    \n",
    "    # remap the eye tracker data using the transformation\n",
    "    new_points = np.empty_like(ref_points)\n",
    "    for j in range(8):\n",
    "        new_points[j] = ref_centroid + np.dot(transformation, tsr_points[j] - tsr_centroid)\n",
    "\n",
    "    # visualize the match\n",
    "    plt.scatter(new_points[:,0], new_points[:,1], c=calib.angle)\n",
    "    plt.scatter(ref_points[:,0], ref_points[:,1], c=calib.angle, marker='x')\n"
   ]
  },
  {
   "cell_type": "markdown",
   "metadata": {},
   "source": [
    "Now load behavioral data, concatenating the various sessions and appending the info contained in **info1**. Discard the first data file because it is not available. For each session, realign based on affine transformations obtained above from the calibration data"
   ]
  },
  {
   "cell_type": "code",
   "execution_count": 9,
   "metadata": {
    "ExecuteTime": {
     "end_time": "2021-03-05T15:20:05.060986Z",
     "start_time": "2021-03-05T15:20:04.933513Z"
    }
   },
   "outputs": [],
   "source": [
    "nsess = info1.shape[0]\n",
    "lst = []\n",
    "for i in range(nsess - 1):\n",
    "    dat = pd.read_csv(info1.loc[i + 1, 'filename'] + '.csv',\n",
    "                      names=['Statecode', 'StimClass', 'Cue', 'X0', 'Y0'])\n",
    "    ndat = dat.shape[0]\n",
    "    appnd = pd.DataFrame(info1.iloc[i + 1].values.repeat(ndat, axis=0).reshape((6, ndat)).T, columns=info1.columns)\n",
    "    \n",
    "    # here we realign eye tracking data using the tracker calibration \n",
    "    new_points = np.empty((ndat,2))\n",
    "    for j in range(ndat):\n",
    "#        new_points[j] = ref_centr[i] + np.dot(transf[i], [dat.loc[j,'X0'], dat.loc[j,'Y0']] - tsr_centr[i])\n",
    "        calb=1\n",
    "        new_points[j] = ref_centr[calb] + np.dot(transf[calb], [dat.loc[j,'X0'], dat.loc[j,'Y0']] - tsr_centr[calb])\n",
    "    conv = pd.DataFrame(new_points, columns=['X','Y'])\n",
    "                                                          \n",
    "    mrgd = pd.concat([dat, conv, appnd], axis=1, join=\"inner\")\n",
    "    lst.append(mrgd)\n",
    "\n",
    "data = pd.concat(lst, ignore_index=True)"
   ]
  },
  {
   "cell_type": "code",
   "execution_count": 10,
   "metadata": {
    "ExecuteTime": {
     "end_time": "2021-03-05T15:20:05.088400Z",
     "start_time": "2021-03-05T15:20:05.062837Z"
    }
   },
   "outputs": [
    {
     "data": {
      "text/html": [
       "<div>\n",
       "<style scoped>\n",
       "    .dataframe tbody tr th:only-of-type {\n",
       "        vertical-align: middle;\n",
       "    }\n",
       "\n",
       "    .dataframe tbody tr th {\n",
       "        vertical-align: top;\n",
       "    }\n",
       "\n",
       "    .dataframe thead th {\n",
       "        text-align: right;\n",
       "    }\n",
       "</style>\n",
       "<table border=\"1\" class=\"dataframe\">\n",
       "  <thead>\n",
       "    <tr style=\"text-align: right;\">\n",
       "      <th></th>\n",
       "      <th>Statecode</th>\n",
       "      <th>StimClass</th>\n",
       "      <th>Cue</th>\n",
       "      <th>X0</th>\n",
       "      <th>Y0</th>\n",
       "      <th>X</th>\n",
       "      <th>Y</th>\n",
       "      <th>filename</th>\n",
       "      <th>delay</th>\n",
       "      <th>n_classes</th>\n",
       "      <th>n_trials</th>\n",
       "      <th>corr_trials</th>\n",
       "      <th>performance</th>\n",
       "    </tr>\n",
       "  </thead>\n",
       "  <tbody>\n",
       "    <tr>\n",
       "      <th>0</th>\n",
       "      <td>6.0</td>\n",
       "      <td>2.0</td>\n",
       "      <td>5.0</td>\n",
       "      <td>8.910731</td>\n",
       "      <td>3.450142</td>\n",
       "      <td>10.058249</td>\n",
       "      <td>3.604742</td>\n",
       "      <td>vmmtest02</td>\n",
       "      <td>1.5</td>\n",
       "      <td>72</td>\n",
       "      <td>298</td>\n",
       "      <td>275</td>\n",
       "      <td>0.922819</td>\n",
       "    </tr>\n",
       "    <tr>\n",
       "      <th>1</th>\n",
       "      <td>6.0</td>\n",
       "      <td>43.0</td>\n",
       "      <td>210.0</td>\n",
       "      <td>-8.891738</td>\n",
       "      <td>-5.607787</td>\n",
       "      <td>-9.050745</td>\n",
       "      <td>-2.139968</td>\n",
       "      <td>vmmtest02</td>\n",
       "      <td>1.5</td>\n",
       "      <td>72</td>\n",
       "      <td>298</td>\n",
       "      <td>275</td>\n",
       "      <td>0.922819</td>\n",
       "    </tr>\n",
       "    <tr>\n",
       "      <th>2</th>\n",
       "      <td>6.0</td>\n",
       "      <td>51.0</td>\n",
       "      <td>250.0</td>\n",
       "      <td>-1.385565</td>\n",
       "      <td>-7.199430</td>\n",
       "      <td>-1.962414</td>\n",
       "      <td>-4.928881</td>\n",
       "      <td>vmmtest02</td>\n",
       "      <td>1.5</td>\n",
       "      <td>72</td>\n",
       "      <td>298</td>\n",
       "      <td>275</td>\n",
       "      <td>0.922819</td>\n",
       "    </tr>\n",
       "    <tr>\n",
       "      <th>3</th>\n",
       "      <td>6.0</td>\n",
       "      <td>48.0</td>\n",
       "      <td>235.0</td>\n",
       "      <td>-5.596391</td>\n",
       "      <td>-6.566952</td>\n",
       "      <td>-5.985460</td>\n",
       "      <td>-3.615144</td>\n",
       "      <td>vmmtest02</td>\n",
       "      <td>1.5</td>\n",
       "      <td>72</td>\n",
       "      <td>298</td>\n",
       "      <td>275</td>\n",
       "      <td>0.922819</td>\n",
       "    </tr>\n",
       "    <tr>\n",
       "      <th>4</th>\n",
       "      <td>6.0</td>\n",
       "      <td>15.0</td>\n",
       "      <td>70.0</td>\n",
       "      <td>2.035138</td>\n",
       "      <td>10.120608</td>\n",
       "      <td>4.498621</td>\n",
       "      <td>11.179509</td>\n",
       "      <td>vmmtest02</td>\n",
       "      <td>1.5</td>\n",
       "      <td>72</td>\n",
       "      <td>298</td>\n",
       "      <td>275</td>\n",
       "      <td>0.922819</td>\n",
       "    </tr>\n",
       "    <tr>\n",
       "      <th>...</th>\n",
       "      <td>...</td>\n",
       "      <td>...</td>\n",
       "      <td>...</td>\n",
       "      <td>...</td>\n",
       "      <td>...</td>\n",
       "      <td>...</td>\n",
       "      <td>...</td>\n",
       "      <td>...</td>\n",
       "      <td>...</td>\n",
       "      <td>...</td>\n",
       "      <td>...</td>\n",
       "      <td>...</td>\n",
       "      <td>...</td>\n",
       "    </tr>\n",
       "    <tr>\n",
       "      <th>3121</th>\n",
       "      <td>6.0</td>\n",
       "      <td>115.0</td>\n",
       "      <td>342.0</td>\n",
       "      <td>8.485280</td>\n",
       "      <td>1.100665</td>\n",
       "      <td>9.219692</td>\n",
       "      <td>1.413171</td>\n",
       "      <td>vmm1203_2</td>\n",
       "      <td>3</td>\n",
       "      <td>120</td>\n",
       "      <td>137</td>\n",
       "      <td>133</td>\n",
       "      <td>0.970803</td>\n",
       "    </tr>\n",
       "    <tr>\n",
       "      <th>3122</th>\n",
       "      <td>2.0</td>\n",
       "      <td>NaN</td>\n",
       "      <td>NaN</td>\n",
       "      <td>NaN</td>\n",
       "      <td>NaN</td>\n",
       "      <td>NaN</td>\n",
       "      <td>NaN</td>\n",
       "      <td>vmm1203_2</td>\n",
       "      <td>3</td>\n",
       "      <td>120</td>\n",
       "      <td>137</td>\n",
       "      <td>133</td>\n",
       "      <td>0.970803</td>\n",
       "    </tr>\n",
       "    <tr>\n",
       "      <th>3123</th>\n",
       "      <td>4.0</td>\n",
       "      <td>NaN</td>\n",
       "      <td>NaN</td>\n",
       "      <td>NaN</td>\n",
       "      <td>NaN</td>\n",
       "      <td>NaN</td>\n",
       "      <td>NaN</td>\n",
       "      <td>vmm1203_2</td>\n",
       "      <td>3</td>\n",
       "      <td>120</td>\n",
       "      <td>137</td>\n",
       "      <td>133</td>\n",
       "      <td>0.970803</td>\n",
       "    </tr>\n",
       "    <tr>\n",
       "      <th>3124</th>\n",
       "      <td>6.0</td>\n",
       "      <td>6.0</td>\n",
       "      <td>15.0</td>\n",
       "      <td>8.857550</td>\n",
       "      <td>6.462488</td>\n",
       "      <td>10.545324</td>\n",
       "      <td>6.514805</td>\n",
       "      <td>vmm1203_2</td>\n",
       "      <td>3</td>\n",
       "      <td>120</td>\n",
       "      <td>137</td>\n",
       "      <td>133</td>\n",
       "      <td>0.970803</td>\n",
       "    </tr>\n",
       "    <tr>\n",
       "      <th>3125</th>\n",
       "      <td>2.0</td>\n",
       "      <td>NaN</td>\n",
       "      <td>NaN</td>\n",
       "      <td>NaN</td>\n",
       "      <td>NaN</td>\n",
       "      <td>NaN</td>\n",
       "      <td>NaN</td>\n",
       "      <td>vmm1203_2</td>\n",
       "      <td>3</td>\n",
       "      <td>120</td>\n",
       "      <td>137</td>\n",
       "      <td>133</td>\n",
       "      <td>0.970803</td>\n",
       "    </tr>\n",
       "  </tbody>\n",
       "</table>\n",
       "<p>3126 rows × 13 columns</p>\n",
       "</div>"
      ],
      "text/plain": [
       "      Statecode  StimClass    Cue        X0         Y0          X          Y  \\\n",
       "0           6.0        2.0    5.0  8.910731   3.450142  10.058249   3.604742   \n",
       "1           6.0       43.0  210.0 -8.891738  -5.607787  -9.050745  -2.139968   \n",
       "2           6.0       51.0  250.0 -1.385565  -7.199430  -1.962414  -4.928881   \n",
       "3           6.0       48.0  235.0 -5.596391  -6.566952  -5.985460  -3.615144   \n",
       "4           6.0       15.0   70.0  2.035138  10.120608   4.498621  11.179509   \n",
       "...         ...        ...    ...       ...        ...        ...        ...   \n",
       "3121        6.0      115.0  342.0  8.485280   1.100665   9.219692   1.413171   \n",
       "3122        2.0        NaN    NaN       NaN        NaN        NaN        NaN   \n",
       "3123        4.0        NaN    NaN       NaN        NaN        NaN        NaN   \n",
       "3124        6.0        6.0   15.0  8.857550   6.462488  10.545324   6.514805   \n",
       "3125        2.0        NaN    NaN       NaN        NaN        NaN        NaN   \n",
       "\n",
       "       filename delay n_classes n_trials corr_trials performance  \n",
       "0     vmmtest02   1.5        72      298         275    0.922819  \n",
       "1     vmmtest02   1.5        72      298         275    0.922819  \n",
       "2     vmmtest02   1.5        72      298         275    0.922819  \n",
       "3     vmmtest02   1.5        72      298         275    0.922819  \n",
       "4     vmmtest02   1.5        72      298         275    0.922819  \n",
       "...         ...   ...       ...      ...         ...         ...  \n",
       "3121  vmm1203_2     3       120      137         133    0.970803  \n",
       "3122  vmm1203_2     3       120      137         133    0.970803  \n",
       "3123  vmm1203_2     3       120      137         133    0.970803  \n",
       "3124  vmm1203_2     3       120      137         133    0.970803  \n",
       "3125  vmm1203_2     3       120      137         133    0.970803  \n",
       "\n",
       "[3126 rows x 13 columns]"
      ]
     },
     "execution_count": 10,
     "metadata": {},
     "output_type": "execute_result"
    }
   ],
   "source": [
    "data\n"
   ]
  },
  {
   "cell_type": "markdown",
   "metadata": {},
   "source": [
    "### Define helper functions"
   ]
  },
  {
   "cell_type": "code",
   "execution_count": 11,
   "metadata": {
    "ExecuteTime": {
     "end_time": "2021-03-05T15:20:05.300194Z",
     "start_time": "2021-03-05T15:20:05.091163Z"
    }
   },
   "outputs": [],
   "source": [
    "from scipy.stats import circmean,circvar,circstd\n",
    "\n",
    "def circdist(angles1,angles2): #define the name and set the arguments between parentheses\n",
    "    output = np.angle( np.exp(1j*(angles1-angles2))) ## mathematical operation to get the circular distance\n",
    "    return output #return the circular distance in radians \n",
    "\n",
    "def circ_mean(x):\n",
    "    return circmean(x,high=np.pi,low=-np.pi)\n",
    "\n",
    "\n",
    "def compute_serial(report,target,d,xxx):\n",
    "    err=circdist(report,target)\n",
    "    idx_clean=(np.abs(err)<10*np.std((err)))\n",
    "    err=err[idx_clean]\n",
    "    d=d[idx_clean]\n",
    "    m_err=[]\n",
    "    std_err=[]\n",
    "    count=[]\n",
    "    cis=[]\n",
    "    err = np.sign(d)*err\n",
    "    d=np.abs(d)\n",
    "    points_idx=[]\n",
    "    for t in xxx:\n",
    "        idx=(d>t)&(d<=t+w2)\n",
    "        m_err.append(circ_mean(err[idx]))\n",
    "        std_err.append(circstd(err[idx])/np.sqrt(sum(idx)))\n",
    "        count.append(sum(idx))\n",
    "        points_idx.append(idx)\n",
    "    return np.array(err),d,np.array(m_err),np.array(std_err),count,points_idx\n",
    "\n"
   ]
  },
  {
   "cell_type": "markdown",
   "metadata": {},
   "source": [
    "### Generate table with consecutive correct trials and previous/current cues"
   ]
  },
  {
   "cell_type": "code",
   "execution_count": 12,
   "metadata": {
    "ExecuteTime": {
     "end_time": "2021-03-05T15:20:06.330817Z",
     "start_time": "2021-03-05T15:20:05.301333Z"
    }
   },
   "outputs": [],
   "source": [
    "ntrials = data.shape[0]\n",
    "data_seq = data.copy()\n",
    "# go through correct trials and include cue of previous trial, if correct. Otherwise, include NaN\n",
    "for i in range(ntrials - 1):\n",
    "    if (data_seq.loc[i,\n",
    "                     'Statecode'] == 6) and (data_seq.loc[i + 1,\n",
    "                                                          'Statecode'] == 6):\n",
    "        data_seq.loc[i + 1, 'PrevCue'] = data_seq.loc[i, 'Cue']\n",
    "    else:\n",
    "        data_seq.loc[i + 1, 'PrevCue'] = np.nan\n",
    "\n",
    "# remove trials that are not correct and are not preceded by correct\n",
    "data_seq.drop(index=np.where(np.isnan(data_seq['PrevCue']))[0], inplace=True)\n",
    "data_seq.reset_index(drop=True, inplace=True)\n",
    "\n",
    "# remove trials for which X=0 and Y=0\n",
    "modulus = data_seq['X0']**2 + data_seq['Y0']**2\n",
    "data_seq.drop(index=np.where(modulus == 0)[0], inplace=True)\n",
    "data_seq.reset_index(drop=True, inplace=True)\n",
    "\n",
    "# add columns with relevant calculations, in radians\n",
    "data_seq['prev_curr'] = circdist(np.deg2rad(data_seq['PrevCue']),\n",
    "                                 np.deg2rad(data_seq['Cue']))\n",
    "data_seq['ang_sacc'] = np.arctan2(data_seq['Y'], data_seq['X'])\n",
    "data_seq['ang_cue'] = np.deg2rad(data_seq['Cue'])\n",
    "data_seq['error'] = circdist(data_seq['ang_sacc'], data_seq['ang_cue'])"
   ]
  },
  {
   "cell_type": "code",
   "execution_count": 13,
   "metadata": {
    "ExecuteTime": {
     "end_time": "2021-03-05T15:20:06.363068Z",
     "start_time": "2021-03-05T15:20:06.332017Z"
    }
   },
   "outputs": [
    {
     "data": {
      "text/html": [
       "<div>\n",
       "<style scoped>\n",
       "    .dataframe tbody tr th:only-of-type {\n",
       "        vertical-align: middle;\n",
       "    }\n",
       "\n",
       "    .dataframe tbody tr th {\n",
       "        vertical-align: top;\n",
       "    }\n",
       "\n",
       "    .dataframe thead th {\n",
       "        text-align: right;\n",
       "    }\n",
       "</style>\n",
       "<table border=\"1\" class=\"dataframe\">\n",
       "  <thead>\n",
       "    <tr style=\"text-align: right;\">\n",
       "      <th></th>\n",
       "      <th>Statecode</th>\n",
       "      <th>StimClass</th>\n",
       "      <th>Cue</th>\n",
       "      <th>X0</th>\n",
       "      <th>Y0</th>\n",
       "      <th>X</th>\n",
       "      <th>Y</th>\n",
       "      <th>filename</th>\n",
       "      <th>delay</th>\n",
       "      <th>n_classes</th>\n",
       "      <th>n_trials</th>\n",
       "      <th>corr_trials</th>\n",
       "      <th>performance</th>\n",
       "      <th>PrevCue</th>\n",
       "      <th>prev_curr</th>\n",
       "      <th>ang_sacc</th>\n",
       "      <th>ang_cue</th>\n",
       "      <th>error</th>\n",
       "    </tr>\n",
       "  </thead>\n",
       "  <tbody>\n",
       "    <tr>\n",
       "      <th>0</th>\n",
       "      <td>6.0</td>\n",
       "      <td>43.0</td>\n",
       "      <td>210.0</td>\n",
       "      <td>-8.891738</td>\n",
       "      <td>-5.607787</td>\n",
       "      <td>-9.050745</td>\n",
       "      <td>-2.139968</td>\n",
       "      <td>vmmtest02</td>\n",
       "      <td>1.5</td>\n",
       "      <td>72</td>\n",
       "      <td>298</td>\n",
       "      <td>275</td>\n",
       "      <td>0.922819</td>\n",
       "      <td>5.0</td>\n",
       "      <td>2.705260</td>\n",
       "      <td>-2.909415</td>\n",
       "      <td>3.665191</td>\n",
       "      <td>-0.291422</td>\n",
       "    </tr>\n",
       "    <tr>\n",
       "      <th>1</th>\n",
       "      <td>6.0</td>\n",
       "      <td>51.0</td>\n",
       "      <td>250.0</td>\n",
       "      <td>-1.385565</td>\n",
       "      <td>-7.199430</td>\n",
       "      <td>-1.962414</td>\n",
       "      <td>-4.928881</td>\n",
       "      <td>vmmtest02</td>\n",
       "      <td>1.5</td>\n",
       "      <td>72</td>\n",
       "      <td>298</td>\n",
       "      <td>275</td>\n",
       "      <td>0.922819</td>\n",
       "      <td>210.0</td>\n",
       "      <td>-0.698132</td>\n",
       "      <td>-1.949703</td>\n",
       "      <td>4.363323</td>\n",
       "      <td>-0.029841</td>\n",
       "    </tr>\n",
       "    <tr>\n",
       "      <th>2</th>\n",
       "      <td>6.0</td>\n",
       "      <td>48.0</td>\n",
       "      <td>235.0</td>\n",
       "      <td>-5.596391</td>\n",
       "      <td>-6.566952</td>\n",
       "      <td>-5.985460</td>\n",
       "      <td>-3.615144</td>\n",
       "      <td>vmmtest02</td>\n",
       "      <td>1.5</td>\n",
       "      <td>72</td>\n",
       "      <td>298</td>\n",
       "      <td>275</td>\n",
       "      <td>0.922819</td>\n",
       "      <td>250.0</td>\n",
       "      <td>0.261799</td>\n",
       "      <td>-2.598246</td>\n",
       "      <td>4.101524</td>\n",
       "      <td>-0.416585</td>\n",
       "    </tr>\n",
       "    <tr>\n",
       "      <th>3</th>\n",
       "      <td>6.0</td>\n",
       "      <td>15.0</td>\n",
       "      <td>70.0</td>\n",
       "      <td>2.035138</td>\n",
       "      <td>10.120608</td>\n",
       "      <td>4.498621</td>\n",
       "      <td>11.179509</td>\n",
       "      <td>vmmtest02</td>\n",
       "      <td>1.5</td>\n",
       "      <td>72</td>\n",
       "      <td>298</td>\n",
       "      <td>275</td>\n",
       "      <td>0.922819</td>\n",
       "      <td>235.0</td>\n",
       "      <td>2.879793</td>\n",
       "      <td>1.188224</td>\n",
       "      <td>1.221730</td>\n",
       "      <td>-0.033507</td>\n",
       "    </tr>\n",
       "    <tr>\n",
       "      <th>4</th>\n",
       "      <td>6.0</td>\n",
       "      <td>31.0</td>\n",
       "      <td>150.0</td>\n",
       "      <td>-13.020893</td>\n",
       "      <td>2.849953</td>\n",
       "      <td>-11.592571</td>\n",
       "      <td>6.696544</td>\n",
       "      <td>vmmtest02</td>\n",
       "      <td>1.5</td>\n",
       "      <td>72</td>\n",
       "      <td>298</td>\n",
       "      <td>275</td>\n",
       "      <td>0.922819</td>\n",
       "      <td>130.0</td>\n",
       "      <td>-0.349066</td>\n",
       "      <td>2.617763</td>\n",
       "      <td>2.617994</td>\n",
       "      <td>-0.000231</td>\n",
       "    </tr>\n",
       "    <tr>\n",
       "      <th>...</th>\n",
       "      <td>...</td>\n",
       "      <td>...</td>\n",
       "      <td>...</td>\n",
       "      <td>...</td>\n",
       "      <td>...</td>\n",
       "      <td>...</td>\n",
       "      <td>...</td>\n",
       "      <td>...</td>\n",
       "      <td>...</td>\n",
       "      <td>...</td>\n",
       "      <td>...</td>\n",
       "      <td>...</td>\n",
       "      <td>...</td>\n",
       "      <td>...</td>\n",
       "      <td>...</td>\n",
       "      <td>...</td>\n",
       "      <td>...</td>\n",
       "      <td>...</td>\n",
       "    </tr>\n",
       "    <tr>\n",
       "      <th>1123</th>\n",
       "      <td>6.0</td>\n",
       "      <td>91.0</td>\n",
       "      <td>270.0</td>\n",
       "      <td>1.146249</td>\n",
       "      <td>-5.731244</td>\n",
       "      <td>0.787435</td>\n",
       "      <td>-3.938534</td>\n",
       "      <td>vmm1203_2</td>\n",
       "      <td>3</td>\n",
       "      <td>120</td>\n",
       "      <td>137</td>\n",
       "      <td>133</td>\n",
       "      <td>0.970803</td>\n",
       "      <td>264.0</td>\n",
       "      <td>-0.104720</td>\n",
       "      <td>-1.373467</td>\n",
       "      <td>4.712389</td>\n",
       "      <td>0.197329</td>\n",
       "    </tr>\n",
       "    <tr>\n",
       "      <th>1124</th>\n",
       "      <td>6.0</td>\n",
       "      <td>65.0</td>\n",
       "      <td>192.0</td>\n",
       "      <td>-10.418803</td>\n",
       "      <td>-1.866097</td>\n",
       "      <td>-9.880883</td>\n",
       "      <td>1.719148</td>\n",
       "      <td>vmm1203_2</td>\n",
       "      <td>3</td>\n",
       "      <td>120</td>\n",
       "      <td>137</td>\n",
       "      <td>133</td>\n",
       "      <td>0.970803</td>\n",
       "      <td>153.0</td>\n",
       "      <td>-0.680678</td>\n",
       "      <td>2.969330</td>\n",
       "      <td>3.351032</td>\n",
       "      <td>-0.381702</td>\n",
       "    </tr>\n",
       "    <tr>\n",
       "      <th>1125</th>\n",
       "      <td>6.0</td>\n",
       "      <td>88.0</td>\n",
       "      <td>261.0</td>\n",
       "      <td>-0.194682</td>\n",
       "      <td>-6.061728</td>\n",
       "      <td>-0.588925</td>\n",
       "      <td>-4.032441</td>\n",
       "      <td>vmm1203_2</td>\n",
       "      <td>3</td>\n",
       "      <td>120</td>\n",
       "      <td>137</td>\n",
       "      <td>133</td>\n",
       "      <td>0.970803</td>\n",
       "      <td>96.0</td>\n",
       "      <td>-2.879793</td>\n",
       "      <td>-1.715818</td>\n",
       "      <td>4.555309</td>\n",
       "      <td>0.012058</td>\n",
       "    </tr>\n",
       "    <tr>\n",
       "      <th>1126</th>\n",
       "      <td>6.0</td>\n",
       "      <td>48.0</td>\n",
       "      <td>141.0</td>\n",
       "      <td>-9.907882</td>\n",
       "      <td>5.647673</td>\n",
       "      <td>-8.033781</td>\n",
       "      <td>8.870102</td>\n",
       "      <td>vmm1203_2</td>\n",
       "      <td>3</td>\n",
       "      <td>120</td>\n",
       "      <td>137</td>\n",
       "      <td>133</td>\n",
       "      <td>0.970803</td>\n",
       "      <td>261.0</td>\n",
       "      <td>2.094395</td>\n",
       "      <td>2.306760</td>\n",
       "      <td>2.460914</td>\n",
       "      <td>-0.154155</td>\n",
       "    </tr>\n",
       "    <tr>\n",
       "      <th>1127</th>\n",
       "      <td>6.0</td>\n",
       "      <td>115.0</td>\n",
       "      <td>342.0</td>\n",
       "      <td>8.485280</td>\n",
       "      <td>1.100665</td>\n",
       "      <td>9.219692</td>\n",
       "      <td>1.413171</td>\n",
       "      <td>vmm1203_2</td>\n",
       "      <td>3</td>\n",
       "      <td>120</td>\n",
       "      <td>137</td>\n",
       "      <td>133</td>\n",
       "      <td>0.970803</td>\n",
       "      <td>141.0</td>\n",
       "      <td>2.775074</td>\n",
       "      <td>0.152094</td>\n",
       "      <td>5.969026</td>\n",
       "      <td>0.466253</td>\n",
       "    </tr>\n",
       "  </tbody>\n",
       "</table>\n",
       "<p>1128 rows × 18 columns</p>\n",
       "</div>"
      ],
      "text/plain": [
       "      Statecode  StimClass    Cue         X0         Y0          X          Y  \\\n",
       "0           6.0       43.0  210.0  -8.891738  -5.607787  -9.050745  -2.139968   \n",
       "1           6.0       51.0  250.0  -1.385565  -7.199430  -1.962414  -4.928881   \n",
       "2           6.0       48.0  235.0  -5.596391  -6.566952  -5.985460  -3.615144   \n",
       "3           6.0       15.0   70.0   2.035138  10.120608   4.498621  11.179509   \n",
       "4           6.0       31.0  150.0 -13.020893   2.849953 -11.592571   6.696544   \n",
       "...         ...        ...    ...        ...        ...        ...        ...   \n",
       "1123        6.0       91.0  270.0   1.146249  -5.731244   0.787435  -3.938534   \n",
       "1124        6.0       65.0  192.0 -10.418803  -1.866097  -9.880883   1.719148   \n",
       "1125        6.0       88.0  261.0  -0.194682  -6.061728  -0.588925  -4.032441   \n",
       "1126        6.0       48.0  141.0  -9.907882   5.647673  -8.033781   8.870102   \n",
       "1127        6.0      115.0  342.0   8.485280   1.100665   9.219692   1.413171   \n",
       "\n",
       "       filename delay n_classes n_trials corr_trials performance  PrevCue  \\\n",
       "0     vmmtest02   1.5        72      298         275    0.922819      5.0   \n",
       "1     vmmtest02   1.5        72      298         275    0.922819    210.0   \n",
       "2     vmmtest02   1.5        72      298         275    0.922819    250.0   \n",
       "3     vmmtest02   1.5        72      298         275    0.922819    235.0   \n",
       "4     vmmtest02   1.5        72      298         275    0.922819    130.0   \n",
       "...         ...   ...       ...      ...         ...         ...      ...   \n",
       "1123  vmm1203_2     3       120      137         133    0.970803    264.0   \n",
       "1124  vmm1203_2     3       120      137         133    0.970803    153.0   \n",
       "1125  vmm1203_2     3       120      137         133    0.970803     96.0   \n",
       "1126  vmm1203_2     3       120      137         133    0.970803    261.0   \n",
       "1127  vmm1203_2     3       120      137         133    0.970803    141.0   \n",
       "\n",
       "      prev_curr  ang_sacc   ang_cue     error  \n",
       "0      2.705260 -2.909415  3.665191 -0.291422  \n",
       "1     -0.698132 -1.949703  4.363323 -0.029841  \n",
       "2      0.261799 -2.598246  4.101524 -0.416585  \n",
       "3      2.879793  1.188224  1.221730 -0.033507  \n",
       "4     -0.349066  2.617763  2.617994 -0.000231  \n",
       "...         ...       ...       ...       ...  \n",
       "1123  -0.104720 -1.373467  4.712389  0.197329  \n",
       "1124  -0.680678  2.969330  3.351032 -0.381702  \n",
       "1125  -2.879793 -1.715818  4.555309  0.012058  \n",
       "1126   2.094395  2.306760  2.460914 -0.154155  \n",
       "1127   2.775074  0.152094  5.969026  0.466253  \n",
       "\n",
       "[1128 rows x 18 columns]"
      ]
     },
     "execution_count": 13,
     "metadata": {},
     "output_type": "execute_result"
    }
   ],
   "source": [
    "data_seq"
   ]
  },
  {
   "cell_type": "code",
   "execution_count": 14,
   "metadata": {
    "ExecuteTime": {
     "end_time": "2021-03-05T15:20:06.377346Z",
     "start_time": "2021-03-05T15:20:06.364692Z"
    }
   },
   "outputs": [
    {
     "name": "stdout",
     "output_type": "stream",
     "text": [
      "trials with delay 1.5: 982\n",
      "trials with delay 3: 146\n",
      "trials with response modulus equals 0: 127\n"
     ]
    }
   ],
   "source": [
    "print('trials with delay 1.5: ' + str(np.sum(data_seq['delay'] < 2)))\n",
    "print('trials with delay 3: ' + str(np.sum(data_seq['delay'] > 2)))\n",
    "print('trials with response modulus equals 0: ' + str(np.sum(modulus == 0)))"
   ]
  },
  {
   "cell_type": "markdown",
   "metadata": {},
   "source": [
    "### Precision of responses"
   ]
  },
  {
   "cell_type": "code",
   "execution_count": 15,
   "metadata": {
    "ExecuteTime": {
     "end_time": "2021-03-05T15:20:06.688515Z",
     "start_time": "2021-03-05T15:20:06.379309Z"
    }
   },
   "outputs": [
    {
     "data": {
      "text/plain": [
       "(-60.0, 60.0)"
      ]
     },
     "execution_count": 15,
     "metadata": {},
     "output_type": "execute_result"
    },
    {
     "data": {
      "image/png": "[encoded data removed]",
      "text/plain": [
       "<Figure size 432x288 with 1 Axes>"
      ]
     },
     "metadata": {
      "needs_background": "light"
     },
     "output_type": "display_data"
    }
   ],
   "source": [
    "import seaborn as sns\n",
    "#data_seq[['error','delay period']].groupby('delay period').hist(bins=100, density=True)\n",
    "\n",
    "df = data_seq[data_seq['delay'] < 2]\n",
    "sns.distplot(np.rad2deg(df['error']), kde=True, label='delay=1.5 s')\n",
    "df = data_seq[data_seq['delay'] > 2]\n",
    "sns.distplot(np.rad2deg(df['error']), kde=True, label='delay=3 s')\n",
    "plt.legend()\n",
    "plt.xlim([-60, 60])"
   ]
  },
  {
   "cell_type": "code",
   "execution_count": 16,
   "metadata": {
    "ExecuteTime": {
     "end_time": "2021-03-05T15:20:06.944370Z",
     "start_time": "2021-03-05T15:20:06.690226Z"
    }
   },
   "outputs": [
    {
     "data": {
      "text/plain": [
       "<matplotlib.legend.Legend at 0x7fd4271f7f90>"
      ]
     },
     "execution_count": 16,
     "metadata": {},
     "output_type": "execute_result"
    },
    {
     "data": {
      "image/png": "[encoded data removed]",
      "text/plain": [
       "<Figure size 432x288 with 1 Axes>"
      ]
     },
     "metadata": {
      "needs_background": "light"
     },
     "output_type": "display_data"
    }
   ],
   "source": [
    "df = data_seq[data_seq['delay'] < 2]\n",
    "sns.scatterplot(x='Cue', y='error', data=df, label='delay=1.5 s')\n",
    "df = data_seq[data_seq['delay'] > 2]\n",
    "sns.scatterplot(x='Cue', y='error', data=df, label='delay=3 s')\n",
    "plt.axhline(color='r', linestyle='--')\n",
    "plt.legend()"
   ]
  },
  {
   "cell_type": "markdown",
   "metadata": {},
   "source": [
    "### Serial bias"
   ]
  },
  {
   "cell_type": "code",
   "execution_count": 17,
   "metadata": {
    "ExecuteTime": {
     "end_time": "2021-03-05T15:20:07.008724Z",
     "start_time": "2021-03-05T15:20:06.945697Z"
    }
   },
   "outputs": [],
   "source": [
    "w1 = np.pi / 50  #100\n",
    "w2 = np.pi / 5  #10\n",
    "n_perms = 1000\n",
    "xxx2 = np.arange(0, np.pi - w2 + w1, w1)\n",
    "\n",
    "err,d,m_err,std_err,count,points_idx = \\\n",
    "    compute_serial(data_seq['ang_sacc'], data_seq['ang_cue'], data_seq['prev_curr'], xxx2)"
   ]
  },
  {
   "cell_type": "markdown",
   "metadata": {},
   "source": [
    "Error bars by bootstrap:"
   ]
  },
  {
   "cell_type": "code",
   "execution_count": 18,
   "metadata": {
    "ExecuteTime": {
     "end_time": "2021-03-05T15:20:36.073827Z",
     "start_time": "2021-03-05T15:20:07.009871Z"
    }
   },
   "outputs": [],
   "source": [
    "import multiprocessing\n",
    "from joblib import Parallel, delayed\n",
    "import scikits.bootstrap as bootstrap\n",
    "\n",
    "num_cores = multiprocessing.cpu_count()\n",
    "boot_idx = bootstrap.bootstrap_indexes(data_seq['ang_sacc'], n_samples=n_perms)\n",
    "\n",
    "\n",
    "def one_boot(i):\n",
    "    err,d,m_err,std_err,count,points_idx = \\\n",
    "        compute_serial(data_seq.loc[i,'ang_sacc'],data_seq.loc[i,'ang_cue'],data_seq.loc[i,'prev_curr'],xxx2)\n",
    "    return m_err\n",
    "\n",
    "\n",
    "M = Parallel(n_jobs=num_cores)(delayed(one_boot)(i) for i in boot_idx)"
   ]
  },
  {
   "cell_type": "code",
   "execution_count": 19,
   "metadata": {
    "ExecuteTime": {
     "end_time": "2021-03-05T15:20:36.085718Z",
     "start_time": "2021-03-05T15:20:36.075559Z"
    }
   },
   "outputs": [],
   "source": [
    "stderr = np.std(M, 0)\n",
    "shuf_mean = np.mean(M, 0)\n",
    "\n",
    "down = (m_err - stderr)\n",
    "up = (m_err + stderr)"
   ]
  },
  {
   "cell_type": "markdown",
   "metadata": {},
   "source": [
    "Plot:"
   ]
  },
  {
   "cell_type": "code",
   "execution_count": 20,
   "metadata": {
    "ExecuteTime": {
     "end_time": "2021-03-05T15:20:36.323828Z",
     "start_time": "2021-03-05T15:20:36.088189Z"
    }
   },
   "outputs": [
    {
     "data": {
      "text/plain": [
       "Text(0, 0.5, 'folded angle saccade error (deg)')"
      ]
     },
     "execution_count": 20,
     "metadata": {},
     "output_type": "execute_result"
    },
    {
     "data": {
      "image/png": "[encoded data removed]",
      "text/plain": [
       "<Figure size 432x288 with 1 Axes>"
      ]
     },
     "metadata": {
      "needs_background": "light"
     },
     "output_type": "display_data"
    }
   ],
   "source": [
    "plt.fill_between(np.rad2deg(xxx2 + w2 / 2),\n",
    "                 np.rad2deg(down),\n",
    "                 np.rad2deg(up),\n",
    "                 color=\"gray\",\n",
    "                 alpha=0.25)\n",
    "plt.plot(np.rad2deg(xxx2 + w2 / 2), np.rad2deg(m_err), \"k-\", lw=1.5)\n",
    "plt.axhline(linestyle='--', color='k')\n",
    "plt.xlabel('abs distance previous - current (deg)')\n",
    "plt.ylabel('folded angle saccade error (deg)')"
   ]
  },
  {
   "cell_type": "code",
   "execution_count": 21,
   "metadata": {
    "ExecuteTime": {
     "end_time": "2021-03-05T15:20:36.361475Z",
     "start_time": "2021-03-05T15:20:36.328739Z"
    }
   },
   "outputs": [],
   "source": [
    "import scipy.stats as sps\n",
    "\n",
    "\n",
    "def serial_bias(prevcurr, error, window, step):\n",
    "    xxx = np.arange(-np.pi, np.pi, step)\n",
    "    m_err = []\n",
    "    std_err = []\n",
    "    for t in xxx:\n",
    "        idx = (prevcurr >= t - window / 2) & (prevcurr < t + window / 2)\n",
    "        if t - window / 2 < -np.pi:\n",
    "            idx = (prevcurr >= t - window / 2) & (\n",
    "                prevcurr < t + window / 2) | (prevcurr > np.pi -\n",
    "                                              (window / 2 -\n",
    "                                               (np.pi - np.abs(t))))\n",
    "        if t + window / 2 > np.pi:\n",
    "            idx = (prevcurr >= t - window / 2) & (\n",
    "                prevcurr < t + window / 2) | (prevcurr < -np.pi +\n",
    "                                              (window / 2 -\n",
    "                                               (np.pi - np.abs(t))))\n",
    "        m_err.append(sps.circmean(error[idx], low=-np.pi, high=np.pi))\n",
    "        std_err.append(sps.circstd(error[idx]) / np.sqrt(np.sum(idx)))\n",
    "    return np.array(m_err), np.array(std_err)\n",
    "\n",
    "\n",
    "def folded_bias(prevcurr, error, window, step):\n",
    "    xxx = np.arange(-np.pi, np.pi, step)\n",
    "    t_err = []\n",
    "    err = []\n",
    "    for t in xxx:\n",
    "        idx = (prevcurr >= t - window / 2) & (prevcurr < t + window / 2)\n",
    "        if t - window / 2 < -np.pi:\n",
    "            idx = (prevcurr >= t - window / 2) & (\n",
    "                prevcurr < t + window / 2) | (prevcurr > np.pi -\n",
    "                                              (window / 2 -\n",
    "                                               (np.pi - np.abs(t))))\n",
    "        if t + window / 2 > np.pi:\n",
    "            idx = (prevcurr >= t - window / 2) & (\n",
    "                prevcurr < t + window / 2) | (prevcurr < -np.pi +\n",
    "                                              (window / 2 -\n",
    "                                               (np.pi - np.abs(t))))\n",
    "        t_err.append(list(error[idx]))\n",
    "    for t in reversed(range(int(len(xxx) / 2))):\n",
    "        err.append([x * -1 for x in t_err[t]] + t_err[-t - 1])\n",
    "    m_err = [sps.circmean(x, low=-np.pi, high=np.pi) for x in err]\n",
    "    se_err = [sps.circstd(x) / np.sqrt(len(x)) for x in err]\n",
    "    return np.array(m_err), np.array(se_err)"
   ]
  },
  {
   "cell_type": "code",
   "execution_count": 22,
   "metadata": {
    "ExecuteTime": {
     "end_time": "2021-03-05T15:20:36.456437Z",
     "start_time": "2021-03-05T15:20:36.363525Z"
    }
   },
   "outputs": [],
   "source": [
    "# this makes surrogate data with an attractive bias towards previous cue, for check purposes\n",
    "#data_seq['error']=0.2*np.random.randn(len(data_seq)) + 0.05*data_seq['prev_curr']\n",
    "\n",
    "import scipy.signal as ss\n",
    "# serial bias parameters for sliding average\n",
    "window = np.pi / 3\n",
    "step = np.pi / 30\n",
    "#sb = folded_bias(data_seq.prev_curr, ss.detrend(data_seq.error),window,step)[0]\n",
    "sb = folded_bias(data_seq.prev_curr, data_seq.error, window, step)[0]\n",
    "xsb = np.arange(0, np.pi, step)"
   ]
  },
  {
   "cell_type": "code",
   "execution_count": 23,
   "metadata": {
    "ExecuteTime": {
     "end_time": "2021-03-05T15:20:36.637567Z",
     "start_time": "2021-03-05T15:20:36.461429Z"
    }
   },
   "outputs": [
    {
     "data": {
      "text/plain": [
       "[<matplotlib.lines.Line2D at 0x7fd426c9ced0>]"
      ]
     },
     "execution_count": 23,
     "metadata": {},
     "output_type": "execute_result"
    },
    {
     "data": {
      "image/png": "[encoded data removed]",
      "text/plain": [
       "<Figure size 432x288 with 1 Axes>"
      ]
     },
     "metadata": {
      "needs_background": "light"
     },
     "output_type": "display_data"
    }
   ],
   "source": [
    "plt.plot(xsb, sb,'ko')\n",
    "plt.plot(xxx2+w2/2, m_err,\"k-\",lw=1.5)\n"
   ]
  },
  {
   "cell_type": "markdown",
   "metadata": {},
   "source": [
    "Now serial bias separately for long and short delays:"
   ]
  },
  {
   "cell_type": "code",
   "execution_count": 24,
   "metadata": {
    "ExecuteTime": {
     "end_time": "2021-03-05T15:22:22.664578Z",
     "start_time": "2021-03-05T15:20:36.641360Z"
    }
   },
   "outputs": [
    {
     "data": {
      "text/plain": [
       "Text(0, 0.5, 'angle saccade error (deg)')"
      ]
     },
     "execution_count": 24,
     "metadata": {},
     "output_type": "execute_result"
    },
    {
     "data": {
      "image/png": "[encoded data removed]",
      "text/plain": [
       "<Figure size 432x288 with 1 Axes>"
      ]
     },
     "metadata": {
      "needs_background": "light"
     },
     "output_type": "display_data"
    }
   ],
   "source": [
    "data_sl = data_seq.loc[data_seq['delay'] == 1.5].copy()\n",
    "data_sl = data_sl.reset_index(drop=True)\n",
    "err, d, m_err, std_err, count, points_idx = compute_serial(\n",
    "    data_sl['ang_sacc'], data_sl['ang_cue'], data_sl['prev_curr'], xxx2)\n",
    "plt.plot(np.rad2deg(xxx2 + w2 / 2),\n",
    "         np.rad2deg(m_err),\n",
    "         \"b-\",\n",
    "         lw=1.5,\n",
    "         label='short')\n",
    "boot_idx = bootstrap.bootstrap_indexes(data_sl['ang_sacc'], n_samples=n_perms)\n",
    "\n",
    "\n",
    "def one_boot(i):\n",
    "    err, d, m_err, std_err, count, points_idx = compute_serial(\n",
    "        data_sl.loc[i, 'ang_sacc'], data_sl.loc[i, 'ang_cue'],\n",
    "        data_sl.loc[i, 'prev_curr'], xxx2)\n",
    "    return m_err\n",
    "\n",
    "\n",
    "M = Parallel(n_jobs=num_cores)(delayed(one_boot)(i) for i in boot_idx)\n",
    "stderr = np.std(M, 0)\n",
    "shuf_mean = np.mean(M, 0)\n",
    "\n",
    "down = (m_err - stderr)\n",
    "up = (m_err + stderr)\n",
    "plt.fill_between(np.rad2deg(xxx2 + w2 / 2),\n",
    "                 np.rad2deg(down),\n",
    "                 np.rad2deg(up),\n",
    "                 color=\"b\",\n",
    "                 alpha=0.25)\n",
    "\n",
    "data_sl = data_seq.loc[data_seq['delay'] > 1.5].copy()\n",
    "data_sl = data_sl.reset_index(drop=True)\n",
    "err, d, m_err, std_err, count, points_idx = compute_serial(\n",
    "    data_sl['ang_sacc'], data_sl['ang_cue'], data_sl['prev_curr'], xxx2)\n",
    "plt.plot(np.rad2deg(xxx2 + w2 / 2),\n",
    "         np.rad2deg(m_err),\n",
    "         \"r-\",\n",
    "         lw=1.5,\n",
    "         label='long')\n",
    "boot_idx = bootstrap.bootstrap_indexes(data_sl['ang_sacc'], n_samples=n_perms)\n",
    "\n",
    "\n",
    "def one_boot(i):\n",
    "    err, d, m_err, std_err, count, points_idx = compute_serial(\n",
    "        data_sl.loc[i, 'ang_sacc'], data_sl.loc[i, 'ang_cue'],\n",
    "        data_sl.loc[i, 'prev_curr'], xxx2)\n",
    "    return m_err\n",
    "\n",
    "\n",
    "M = Parallel(n_jobs=num_cores)(delayed(one_boot)(i) for i in boot_idx)\n",
    "stderr = np.std(M, 0)\n",
    "shuf_mean = np.mean(M, 0)\n",
    "\n",
    "down = (m_err - stderr)\n",
    "up = (m_err + stderr)\n",
    "plt.fill_between(np.rad2deg(xxx2 + w2 / 2),\n",
    "                 np.rad2deg(down),\n",
    "                 np.rad2deg(up),\n",
    "                 color=\"r\",\n",
    "                 alpha=0.25)\n",
    "\n",
    "plt.axhline(linestyle='--', color='k')\n",
    "plt.legend()\n",
    "plt.xlabel('distance previous - current (deg)')\n",
    "plt.ylabel('angle saccade error (deg)')"
   ]
  },
  {
   "cell_type": "code",
   "execution_count": 25,
   "metadata": {
    "ExecuteTime": {
     "end_time": "2021-03-05T15:22:23.022493Z",
     "start_time": "2021-03-05T15:22:22.666328Z"
    }
   },
   "outputs": [
    {
     "data": {
      "text/plain": [
       "<matplotlib.lines.Line2D at 0x7fd425b69c50>"
      ]
     },
     "execution_count": 25,
     "metadata": {},
     "output_type": "execute_result"
    },
    {
     "data": {
      "image/png": "[encoded data removed]",
      "text/plain": [
       "<Figure size 432x288 with 1 Axes>"
      ]
     },
     "metadata": {
      "needs_background": "light"
     },
     "output_type": "display_data"
    }
   ],
   "source": [
    "# serial bias parameters for sliding average\n",
    "window = np.pi / 3\n",
    "step = np.pi / 30\n",
    "sb_sh = folded_bias(data_seq.prev_curr[data_seq.delay < 2],\n",
    "                    data_seq.error[data_seq.delay < 2], window, step)[0]\n",
    "sb_lg = folded_bias(data_seq.prev_curr[data_seq.delay > 2],\n",
    "                    data_seq.error[data_seq.delay > 2], window, step)[0]\n",
    "xsb = np.arange(0, np.pi, step)\n",
    "plt.plot(xsb, sb_sh, 'bo-')\n",
    "plt.plot(xsb, sb_lg, 'ro-')\n",
    "plt.axhline()"
   ]
  },
  {
   "cell_type": "code",
   "execution_count": 38,
   "metadata": {
    "ExecuteTime": {
     "end_time": "2021-03-05T15:35:17.922687Z",
     "start_time": "2021-03-05T15:35:17.562810Z"
    }
   },
   "outputs": [
    {
     "data": {
      "text/plain": [
       "<matplotlib.legend.Legend at 0x7fd425911f90>"
      ]
     },
     "execution_count": 38,
     "metadata": {},
     "output_type": "execute_result"
    },
    {
     "data": {
      "image/png": "[encoded data removed]",
      "text/plain": [
       "<Figure size 432x288 with 1 Axes>"
      ]
     },
     "metadata": {
      "needs_background": "light"
     },
     "output_type": "display_data"
    }
   ],
   "source": [
    "# serial bias parameters for sliding average\n",
    "window = np.pi / 3\n",
    "step = np.pi / 30\n",
    "sb_all = folded_bias(data_seq.prev_curr,\n",
    "                    data_seq.error, window, step)[0]\n",
    "sb_n72 = folded_bias(data_seq.prev_curr[data_seq.n_classes==72],\n",
    "                    data_seq.error[data_seq.n_classes==72], window, step)[0]\n",
    "sb_n120 = folded_bias(data_seq.prev_curr[data_seq.n_classes==120],\n",
    "                    data_seq.error[data_seq.n_classes==120], window, step)[0]\n",
    "xsb = np.arange(0, np.pi, step)\n",
    "plt.plot(xsb, sb_all, label='all')\n",
    "plt.plot(xsb, sb_n72, label='only N=72')\n",
    "plt.plot(xsb, sb_n120, label='only N=120')\n",
    "plt.axhline()\n",
    "plt.legend()"
   ]
  },
  {
   "cell_type": "markdown",
   "metadata": {},
   "source": [
    "### Nonuniform cues"
   ]
  },
  {
   "cell_type": "code",
   "execution_count": 26,
   "metadata": {
    "ExecuteTime": {
     "end_time": "2021-03-05T15:22:23.468986Z",
     "start_time": "2021-03-05T15:22:23.024837Z"
    }
   },
   "outputs": [
    {
     "data": {
      "image/png": "[encoded data removed]",
      "text/plain": [
       "<Figure size 432x288 with 1 Axes>"
      ]
     },
     "metadata": {
      "needs_background": "light"
     },
     "output_type": "display_data"
    }
   ],
   "source": [
    "data_seq.groupby('filename').Cue.hist(bins=30);"
   ]
  },
  {
   "cell_type": "code",
   "execution_count": 27,
   "metadata": {
    "ExecuteTime": {
     "end_time": "2021-03-05T15:22:24.364982Z",
     "start_time": "2021-03-05T15:22:23.470684Z"
    }
   },
   "outputs": [
    {
     "data": {
      "image/png": "[encoded data removed]",
      "text/plain": [
       "<Figure size 432x288 with 9 Axes>"
      ]
     },
     "metadata": {
      "needs_background": "light"
     },
     "output_type": "display_data"
    }
   ],
   "source": [
    "data_seq[['Cue','filename']].hist(by='filename', bins=30);"
   ]
  },
  {
   "cell_type": "markdown",
   "metadata": {},
   "source": [
    "### regression model"
   ]
  },
  {
   "cell_type": "code",
   "execution_count": 28,
   "metadata": {
    "ExecuteTime": {
     "end_time": "2021-03-05T15:22:24.373135Z",
     "start_time": "2021-03-05T15:22:24.366567Z"
    }
   },
   "outputs": [],
   "source": [
    "def find_nearest(array, value):\n",
    "    array = np.asarray(array)\n",
    "    idx = (np.abs(array - value)).argmin()\n",
    "    return idx\n",
    "\n",
    "\n",
    "def normgauss(xxx, sigma):\n",
    "    gauss = (1 / (sigma * np.sqrt(2 * np.pi)) * np.exp(-(xxx - 0)**2 /\n",
    "                                                       (2 * sigma**2)))\n",
    "    return gauss / gauss.max()\n",
    "\n",
    "\n",
    "def normgrad(xxx):\n",
    "    return np.gradient(xxx) / np.gradient(xxx).max()\n",
    "\n",
    "\n",
    "def dog1(sigma, x):\n",
    "    xxx = np.arange(-2 * np.pi, 2 * np.pi, .0001)\n",
    "    dog_1st = normgrad(normgauss(xxx, sigma))\n",
    "    return np.array(list(map(lambda x: dog_1st[find_nearest(xxx, x)], x)))"
   ]
  },
  {
   "cell_type": "code",
   "execution_count": 29,
   "metadata": {
    "ExecuteTime": {
     "end_time": "2021-03-05T15:22:24.431837Z",
     "start_time": "2021-03-05T15:22:24.374988Z"
    }
   },
   "outputs": [],
   "source": [
    "par=0.5\n",
    "x=np.linspace(0,np.pi,100)\n",
    "tmp=dog1(par,x)"
   ]
  },
  {
   "cell_type": "code",
   "execution_count": 30,
   "metadata": {
    "ExecuteTime": {
     "end_time": "2021-03-05T15:22:24.670433Z",
     "start_time": "2021-03-05T15:22:24.433128Z"
    }
   },
   "outputs": [
    {
     "data": {
      "text/plain": [
       "[<matplotlib.lines.Line2D at 0x7fd425538ed0>]"
      ]
     },
     "execution_count": 30,
     "metadata": {},
     "output_type": "execute_result"
    },
    {
     "data": {
      "image/png": "[encoded data removed]",
      "text/plain": [
       "<Figure size 432x288 with 1 Axes>"
      ]
     },
     "metadata": {
      "needs_background": "light"
     },
     "output_type": "display_data"
    }
   ],
   "source": [
    "data_sl = data_seq.loc[data_seq['delay'] == 1.5].copy()\n",
    "data_sl = data_sl.reset_index(drop=True)\n",
    "err, d, m_err, std_err, count, points_idx = compute_serial(\n",
    "    data_sl['ang_sacc'], data_sl['ang_cue'], data_sl['prev_curr'], xxx2)\n",
    "plt.plot(np.rad2deg(xxx2 + w2 / 2),\n",
    "         np.rad2deg(m_err),\n",
    "         \"bo\",\n",
    "         lw=1.5,\n",
    "         label='short')\n",
    "\n",
    "plt.plot(np.rad2deg(x), 2 * tmp)"
   ]
  },
  {
   "cell_type": "code",
   "execution_count": 31,
   "metadata": {
    "ExecuteTime": {
     "end_time": "2021-03-05T15:22:24.975271Z",
     "start_time": "2021-03-05T15:22:24.672771Z"
    }
   },
   "outputs": [],
   "source": [
    "# add DoG(prevcurr) to dataframe\n",
    "# hyperparameter and DoG1 vs DoG3 from model_selection.py\n",
    "data_seq['baseprevcurr']  = dog1(par, data_seq.prev_curr.values)"
   ]
  },
  {
   "cell_type": "code",
   "execution_count": 32,
   "metadata": {
    "ExecuteTime": {
     "end_time": "2021-03-05T15:22:25.214815Z",
     "start_time": "2021-03-05T15:22:24.976744Z"
    }
   },
   "outputs": [
    {
     "name": "stdout",
     "output_type": "stream",
     "text": [
      "                 Generalized Linear Model Regression Results                  \n",
      "==============================================================================\n",
      "Dep. Variable:                  error   No. Observations:                 1128\n",
      "Model:                            GLM   Df Residuals:                     1124\n",
      "Model Family:                Gaussian   Df Model:                            3\n",
      "Link Function:               identity   Scale:                        0.079449\n",
      "Method:                          IRLS   Log-Likelihood:                -170.15\n",
      "Date:                Fri, 05 Mar 2021   Deviance:                       89.300\n",
      "Time:                        16:22:25   Pearson chi2:                     89.3\n",
      "No. Iterations:                     3                                         \n",
      "Covariance Type:            nonrobust                                         \n",
      "=============================================================================================\n",
      "                                coef    std err          z      P>|z|      [0.025      0.975]\n",
      "---------------------------------------------------------------------------------------------\n",
      "Intercept                     0.0495      0.009      5.499      0.000       0.032       0.067\n",
      "delay[T.3.0]                 -0.0048      0.025     -0.188      0.851      -0.054       0.045\n",
      "baseprevcurr                  0.0456      0.021      2.123      0.034       0.004       0.088\n",
      "baseprevcurr:delay[T.3.0]    -0.0810      0.057     -1.429      0.153      -0.192       0.030\n",
      "=============================================================================================\n"
     ]
    }
   ],
   "source": [
    "import statsmodels.formula.api as smf\n",
    "import statsmodels.api as sm\n",
    "\n",
    "mod = smf.glm(formula='error ~ baseprevcurr*delay', data=data_seq)\n",
    "res = mod.fit()\n",
    "\n",
    "print(res.summary())"
   ]
  },
  {
   "cell_type": "code",
   "execution_count": 33,
   "metadata": {
    "ExecuteTime": {
     "end_time": "2021-03-05T15:22:25.401898Z",
     "start_time": "2021-03-05T15:22:25.216553Z"
    }
   },
   "outputs": [
    {
     "data": {
      "text/plain": [
       "[<matplotlib.lines.Line2D at 0x7fd424562f10>]"
      ]
     },
     "execution_count": 33,
     "metadata": {},
     "output_type": "execute_result"
    },
    {
     "data": {
      "image/png": "[encoded data removed]",
      "text/plain": [
       "<Figure size 432x288 with 1 Axes>"
      ]
     },
     "metadata": {
      "needs_background": "light"
     },
     "output_type": "display_data"
    }
   ],
   "source": [
    "bins = np.linspace(-np.pi, np.pi, 100)\n",
    "groups = data_seq.groupby(pd.cut(data_seq.prev_curr, bins))\n",
    "\n",
    "plt.plot(bins[:-1], groups.error.mean(), 'ko')\n",
    "#plt.xlim([-50, 50])\n",
    "\n",
    "pc = np.linspace(-np.pi, np.pi, 200)\n",
    "sbc = res.params['Intercept'] + res.params['baseprevcurr'] * dog1(par, pc)\n",
    "plt.plot(pc, sbc)"
   ]
  },
  {
   "cell_type": "code",
   "execution_count": 34,
   "metadata": {
    "ExecuteTime": {
     "end_time": "2021-03-05T15:22:25.408629Z",
     "start_time": "2021-03-05T15:22:25.403647Z"
    }
   },
   "outputs": [
    {
     "data": {
      "text/plain": [
       "13"
      ]
     },
     "execution_count": 34,
     "metadata": {},
     "output_type": "execute_result"
    }
   ],
   "source": [
    "np.sum(data_seq['Cue']==210)"
   ]
  },
  {
   "cell_type": "code",
   "execution_count": 35,
   "metadata": {
    "ExecuteTime": {
     "end_time": "2021-03-05T15:32:13.497973Z",
     "start_time": "2021-03-05T15:32:13.240578Z"
    }
   },
   "outputs": [
    {
     "data": {
      "text/plain": [
       "<matplotlib.legend.Legend at 0x7fd424448650>"
      ]
     },
     "execution_count": 35,
     "metadata": {},
     "output_type": "execute_result"
    },
    {
     "data": {
      "image/png": "[encoded data removed]",
      "text/plain": [
       "<Figure size 432x288 with 1 Axes>"
      ]
     },
     "metadata": {
      "needs_background": "light"
     },
     "output_type": "display_data"
    }
   ],
   "source": [
    "mod72 = smf.glm(formula='error ~ baseprevcurr', data=data_seq[data_seq.n_classes==72])\n",
    "res72 = mod72.fit()\n",
    "\n",
    "sbc = res.params['Intercept'] + res.params['baseprevcurr'] * dog1(par, pc)\n",
    "plt.plot(pc, sbc, label='all data')\n",
    "sbc72 = res72.params['Intercept'] + res72.params['baseprevcurr'] * dog1(par, pc)\n",
    "plt.plot(pc, sbc72, label='only N=72')\n",
    "plt.legend()"
   ]
  },
  {
   "cell_type": "code",
   "execution_count": null,
   "metadata": {},
   "outputs": [],
   "source": []
  }
 ],
 "metadata": {
  "hide_input": false,
  "kernelspec": {
   "display_name": "Python 3",
   "language": "python",
   "name": "python3"
  },
  "language_info": {
   "codemirror_mode": {
    "name": "ipython",
    "version": 3
   },
   "file_extension": ".py",
   "mimetype": "text/x-python",
   "name": "python",
   "nbconvert_exporter": "python",
   "pygments_lexer": "ipython3",
   "version": "3.7.6"
  },
  "toc": {
   "base_numbering": 1,
   "nav_menu": {},
   "number_sections": true,
   "sideBar": true,
   "skip_h1_title": false,
   "title_cell": "Table of Contents",
   "title_sidebar": "Contents",
   "toc_cell": false,
   "toc_position": {},
   "toc_section_display": true,
   "toc_window_display": false
  },
  "varInspector": {
   "cols": {
    "lenName": 16,
    "lenType": 16,
    "lenVar": 40
   },
   "kernels_config": {
    "python": {
     "delete_cmd_postfix": "",
     "delete_cmd_prefix": "del ",
     "library": "var_list.py",
     "varRefreshCmd": "print(var_dic_list())"
    },
    "r": {
     "delete_cmd_postfix": ") ",
     "delete_cmd_prefix": "rm(",
     "library": "var_list.r",
     "varRefreshCmd": "cat(var_dic_list()) "
    }
   },
   "oldHeight": 616.61666,
   "position": {
    "height": "40px",
    "left": "726.333px",
    "right": "20px",
    "top": "28px",
    "width": "407.767px"
   },
   "types_to_exclude": [
    "module",
    "function",
    "builtin_function_or_method",
    "instance",
    "_Feature"
   ],
   "varInspector_section_display": "none",
   "window_display": true
  }
 },
 "nbformat": 4,
 "nbformat_minor": 4
}
